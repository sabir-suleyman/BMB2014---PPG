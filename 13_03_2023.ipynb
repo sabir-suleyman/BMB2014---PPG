{
  "nbformat": 4,
  "nbformat_minor": 0,
  "metadata": {
    "colab": {
      "provenance": [],
      "authorship_tag": "ABX9TyOOssXjMRXf0HyeY2FNzEpG",
      "include_colab_link": true
    },
    "kernelspec": {
      "name": "python3",
      "display_name": "Python 3"
    },
    "language_info": {
      "name": "python"
    }
  },
  "cells": [
    {
      "cell_type": "markdown",
      "metadata": {
        "id": "view-in-github",
        "colab_type": "text"
      },
      "source": [
        "<a href=\"https://colab.research.google.com/github/sabir-suleyman/BMB2014---PPG/blob/main/13_03_2023.ipynb\" target=\"_parent\"><img src=\"https://colab.research.google.com/assets/colab-badge.svg\" alt=\"Open In Colab\"/></a>"
      ]
    },
    {
      "cell_type": "code",
      "execution_count": null,
      "metadata": {
        "id": "bxlZYpi4VAeT"
      },
      "outputs": [],
      "source": [
        "import random"
      ]
    },
    {
      "cell_type": "markdown",
      "source": [
        "`random.random()` kullanımı:"
      ],
      "metadata": {
        "id": "ey49TCHZW6Q7"
      }
    },
    {
      "cell_type": "code",
      "source": [
        "for i in range(5):\n",
        "  print(random.random())\n"
      ],
      "metadata": {
        "colab": {
          "base_uri": "https://localhost:8080/"
        },
        "id": "qVIKeH7WVg5t",
        "outputId": "9aac205d-498e-4b54-cdb4-6305cb27e1fc"
      },
      "execution_count": null,
      "outputs": [
        {
          "output_type": "stream",
          "name": "stdout",
          "text": [
            "0.18373273534997325\n",
            "0.26885463055886916\n",
            "0.4232450615258443\n",
            "0.46352065953452937\n",
            "0.0034154527647032307\n"
          ]
        }
      ]
    },
    {
      "cell_type": "markdown",
      "source": [
        "`random.randint()` kullanımı: (2 parametre alıyor)"
      ],
      "metadata": {
        "id": "7iDSd2g-XAyG"
      }
    },
    {
      "cell_type": "code",
      "source": [
        "for i in range(5):\n",
        "  print(random.randint(1,10))"
      ],
      "metadata": {
        "colab": {
          "base_uri": "https://localhost:8080/"
        },
        "id": "zHiCMX72WOYV",
        "outputId": "33d2a34c-e407-4036-849e-c3e9b1a21e22"
      },
      "execution_count": null,
      "outputs": [
        {
          "output_type": "stream",
          "name": "stdout",
          "text": [
            "6\n",
            "7\n",
            "8\n",
            "4\n",
            "9\n"
          ]
        }
      ]
    },
    {
      "cell_type": "markdown",
      "source": [
        "`random.randrange()` kullanımı:"
      ],
      "metadata": {
        "id": "Q7c7w4hdXMk-"
      }
    },
    {
      "cell_type": "code",
      "source": [
        "for i in range(5):\n",
        "  print(random.randrange(1,10))"
      ],
      "metadata": {
        "colab": {
          "base_uri": "https://localhost:8080/"
        },
        "id": "WUtxAkVTWmRH",
        "outputId": "5d20ac57-7c8a-4714-b865-6f6e4e7d5738"
      },
      "execution_count": null,
      "outputs": [
        {
          "output_type": "stream",
          "name": "stdout",
          "text": [
            "4\n",
            "4\n",
            "1\n",
            "2\n",
            "6\n"
          ]
        }
      ]
    },
    {
      "cell_type": "markdown",
      "source": [
        "`random.seed()` kullanımı. Bu metot üretilen random sayıların her seferinde aynı kalmasını sağlıyor."
      ],
      "metadata": {
        "id": "3CC3B13fXa8z"
      }
    },
    {
      "cell_type": "code",
      "source": [
        "random.seed(5)\n",
        "for i in range(5):\n",
        "  print(random.randrange(1,10))"
      ],
      "metadata": {
        "colab": {
          "base_uri": "https://localhost:8080/"
        },
        "id": "VL_2I2aSXTZN",
        "outputId": "97e11b95-45dc-4ddd-fb74-aa622c5ba413"
      },
      "execution_count": null,
      "outputs": [
        {
          "output_type": "stream",
          "name": "stdout",
          "text": [
            "5\n",
            "6\n",
            "9\n",
            "1\n",
            "8\n"
          ]
        }
      ]
    },
    {
      "cell_type": "markdown",
      "source": [
        "`random.randrange()` fonksiyonu input parametre olarak tek değer almışsa bu değer üst sınırı belirtir ve `range()` fonksiyonunda olduğu gibi döngüye dahil değildir. "
      ],
      "metadata": {
        "id": "YprCHhmCY67w"
      }
    },
    {
      "cell_type": "code",
      "source": [
        "random.seed(10)\n",
        "for i in range(7):\n",
        "  print('T' if random.randrange(2) == 1 else 'F')   "
      ],
      "metadata": {
        "colab": {
          "base_uri": "https://localhost:8080/"
        },
        "id": "Wr57Dd92XtsY",
        "outputId": "09765853-51ca-4dda-baa6-893eff341a2a"
      },
      "execution_count": null,
      "outputs": [
        {
          "output_type": "stream",
          "name": "stdout",
          "text": [
            "F\n",
            "T\n",
            "T\n",
            "F\n",
            "F\n",
            "T\n",
            "T\n"
          ]
        }
      ]
    },
    {
      "cell_type": "markdown",
      "source": [
        "**Ödev:** Elimizde 2 adet zarımız var. Bu zarların herbiri 1-6 arasında değerler almaktadır. Atılan zarların toplamları 7 veya 11 ise oyuncu kazanmakta, 2 , 3 veya 12 ise kaybetmektedir. Bunların dışında gelen her toplam sayı oyuncunun puanı olmakta ve oyuncu kazanana/kaybedene kadar oyun devam etmektedir."
      ],
      "metadata": {
        "id": "7nARWpPRaV-n"
      }
    },
    {
      "cell_type": "code",
      "source": [
        "import random\n",
        "def zarAt():\n",
        "  zar = random.randint(1,6)\n",
        "  return zar\n",
        "\n",
        "print(\"Oyuna hosgeldiniz!\")\n",
        "puan = 0\n",
        "while True:\n",
        "  zar1 = zarAt()\n",
        "  zar2 = zarAt()\n",
        "  print(zar1)\n",
        "  print(zar2)\n",
        "  if zar1+zar2 == 7 or zar1+zar2 == 11:\n",
        "    print(\"Kazandiniz!\")\n",
        "    print(f'Puaniniz: ',puan)\n",
        "    break\n",
        "  if zar1+zar2 == 2 or zar1+zar2 == 3 or zar1+zar2 == 12:\n",
        "    print(\"Kaybettiniz...\")\n",
        "    print(f'Puaniniz: ',puan)\n",
        "    break\n",
        "  else:\n",
        "    puan = zar1+zar2\n",
        "    print(f'Puaniniz: ',puan)\n",
        "    print(\"Bir sonraki asamaya geciliyor...\")"
      ],
      "metadata": {
        "colab": {
          "base_uri": "https://localhost:8080/"
        },
        "id": "KdaHif9GZVss",
        "outputId": "ed3b8bc1-4296-48fd-fa74-3b03458695f5"
      },
      "execution_count": null,
      "outputs": [
        {
          "output_type": "stream",
          "name": "stdout",
          "text": [
            "Oyuna hosgeldiniz!\n",
            "1\n",
            "5\n",
            "Puaniniz:  6\n",
            "Bir sonraki asamaya geciliyor...\n",
            "1\n",
            "2\n",
            "Kaybettiniz...\n",
            "Puaniniz:  6\n"
          ]
        }
      ]
    },
    {
      "cell_type": "markdown",
      "source": [
        "#**Scope`lar**\n",
        "Bir değişken tanımlandığı yere göre değeri değişebilmektedir Örn. aşağıdakı kod parşasında global scope da tanınmış olan x değişkenine 100 değeri atanmış. Aynı zamanda `deneme()` fonksiyonunun içinde de x değişkeni tanımlandığını görebilirsiniz. Fonksiyon içindeki x değişkeninin değerini ne kadar değiştirirsek değiştirelim global scopeda tanımlanmış olan x değişkeninin değerine etki edemeycektir:"
      ],
      "metadata": {
        "id": "22IoGCvllGfD"
      }
    },
    {
      "cell_type": "code",
      "source": [
        "x = 100\n",
        "\n",
        "def deneme():\n",
        "  x = 12\n",
        "  print(f\"x in fonksiyon icinde degeri: {x}\")\n",
        "\n",
        "deneme()\n",
        "print(f\"x in global scopedaki degeri: {x}\")"
      ],
      "metadata": {
        "colab": {
          "base_uri": "https://localhost:8080/"
        },
        "id": "PM8pv6illEmZ",
        "outputId": "5681abcf-686b-44de-8b9d-6be19d1be11a"
      },
      "execution_count": null,
      "outputs": [
        {
          "output_type": "stream",
          "name": "stdout",
          "text": [
            "x in fonksiyon icinde degeri: 12\n",
            "x in global scopedaki degeri: 100\n"
          ]
        }
      ]
    },
    {
      "cell_type": "markdown",
      "source": [
        "Eğer fonksiyon içindeki x değişkeninin değerinin de global scopeda geçerli olmasını istiyorsanız ozaman `global` keywordunu kullanamınız gerekmektedir:"
      ],
      "metadata": {
        "id": "2zNUCRTVmIZT"
      }
    },
    {
      "cell_type": "code",
      "source": [
        "x = 100\n",
        "\n",
        "def deneme():\n",
        "  global x \n",
        "  x = 12\n",
        "  print(f\"x in fonksiyon icinde degeri: {x}\")\n",
        "\n",
        "deneme()\n",
        "print(f\"x in global scopedaki degeri: {x}\")"
      ],
      "metadata": {
        "colab": {
          "base_uri": "https://localhost:8080/"
        },
        "id": "oTJ4kk8emViv",
        "outputId": "a06991fa-b480-488f-9d9a-9f087db126bb"
      },
      "execution_count": null,
      "outputs": [
        {
          "output_type": "stream",
          "name": "stdout",
          "text": [
            "x in fonksiyon icinde degeri: 12\n",
            "x in global scopedaki degeri: 12\n"
          ]
        }
      ]
    },
    {
      "cell_type": "markdown",
      "source": [
        "#**Kutuphanelerin import edilmesi**"
      ],
      "metadata": {
        "id": "vlBX3uz-oebY"
      }
    },
    {
      "cell_type": "markdown",
      "source": [
        "A.ağıdaki örnekte `random` kütüphanesi 2 farklı şekilde import edilmiştir. 1.örnekte komple `random` kütüphanesi import edilirken, diğerinde sadece `random` kütüphanesinin `randrange` sınıfı import edilmiştir. Örneklerin birbirinden farkı bulunduğu hücrelerde belirtilmiştir:"
      ],
      "metadata": {
        "id": "_MQpov2Iu4ka"
      }
    },
    {
      "cell_type": "code",
      "source": [
        "import random  # random.randrange() olarak cagirilir"
      ],
      "metadata": {
        "id": "Wwhi238bodu2"
      },
      "execution_count": null,
      "outputs": []
    },
    {
      "cell_type": "code",
      "source": [
        "from   random import randrange  #randrange() olarak cagirilir"
      ],
      "metadata": {
        "id": "2DE7N3BEu6WG"
      },
      "execution_count": null,
      "outputs": []
    },
    {
      "cell_type": "markdown",
      "source": [
        "Herhangi kütüphanede bulunan bir değişkene değer atadıktan sonra o kütüphaneyi import ettiğimizde birtakım sıkıntılarla karşılaşabiliriz. Örnek olarak `e` değişkeni ile başlayalım. Bildiğiniz gibi `e` matematikte sabit bir sayıya (*2.718281828459045*) eşittir. Şimdi `math` kütüphanesi import etmeden önce ona bir değer atayalım:"
      ],
      "metadata": {
        "id": "v-FvqultxMLw"
      }
    },
    {
      "cell_type": "code",
      "source": [
        "e = 5324"
      ],
      "metadata": {
        "id": "Vjnd5rWGwiEd"
      },
      "execution_count": null,
      "outputs": []
    },
    {
      "cell_type": "code",
      "source": [
        "from math import *   #import math ile ayni anlama gelmektedir"
      ],
      "metadata": {
        "id": "9U-0RfCPwjQG"
      },
      "execution_count": null,
      "outputs": []
    },
    {
      "cell_type": "markdown",
      "source": [
        "Bu işlemi gercekleştirdikden sonra `e` nin değerinin `math` kütüphanesinde bulunan değerine (*2.718281828459045*) eşitlendiğini görebiliriz:"
      ],
      "metadata": {
        "id": "1CNCs010wxO_"
      }
    },
    {
      "cell_type": "code",
      "source": [
        "e"
      ],
      "metadata": {
        "id": "JVMYqobzwqyf"
      },
      "execution_count": null,
      "outputs": []
    },
    {
      "cell_type": "markdown",
      "source": [
        "Bu tarz sıkıntıları yaşamamak için import edeceğiniz kütüphanenin sadece kullanacağınız sınıflarını çağırmağınız sizin için kolaylık sağlar ve kod karmaşıklığını önler:"
      ],
      "metadata": {
        "id": "UfU3R5Jqx3dL"
      }
    },
    {
      "cell_type": "code",
      "source": [
        "from math import sqrt"
      ],
      "metadata": {
        "id": "bG_b6rQ-yKeK"
      },
      "execution_count": null,
      "outputs": []
    },
    {
      "cell_type": "markdown",
      "source": [
        "##Kütüphane kısaltılışı\n",
        "Kütüphane isimlerini yazacağımız kodda tekrar tekrar kullanacağımız zamanlarda bu isimleri başta kütüphane ismini yazmamamız kod parçamızın okunabilirliğini arttırır. Örn: "
      ],
      "metadata": {
        "id": "CCJjYSlcyYIQ"
      }
    },
    {
      "cell_type": "code",
      "source": [
        "import pandas\n",
        "\n",
        "pandas.pd.read_csv(\"deneme.csv\")"
      ],
      "metadata": {
        "id": "uTFj6FIvD3Yz"
      },
      "execution_count": null,
      "outputs": []
    },
    {
      "cell_type": "code",
      "source": [
        "import pandas as pd   \n",
        " \n",
        "pd.read_csv(\"deneme.csv\")   #pandas. yazmamiza gerek kalmadi"
      ],
      "metadata": {
        "id": "NcyHyKQXyxV6"
      },
      "execution_count": null,
      "outputs": []
    },
    {
      "cell_type": "code",
      "source": [
        "import numpy as np"
      ],
      "metadata": {
        "id": "AL4o7tiIy0oY"
      },
      "execution_count": null,
      "outputs": []
    },
    {
      "cell_type": "markdown",
      "source": [
        "##Kolleksiyonlar\n",
        "Pythonda tanımlı olan 4 kolleksiyon var: `list`, `tuple`, `set` ve `dict`. Bu kolleksiyonlar dinamik olarak boyutlandırılabilen ve herbirinin birbirine göre farklılığı olan veri yapılarıdır."
      ],
      "metadata": {
        "id": "rccKywVPERfM"
      }
    },
    {
      "cell_type": "markdown",
      "source": [
        "Liste veri yapısı:"
      ],
      "metadata": {
        "id": "bBbx1yE2I6XB"
      }
    },
    {
      "cell_type": "code",
      "source": [
        "l = [10,20,30,40,50]  "
      ],
      "metadata": {
        "id": "a5ex4A2Ny2P0"
      },
      "execution_count": null,
      "outputs": []
    },
    {
      "cell_type": "code",
      "source": [
        "l"
      ],
      "metadata": {
        "colab": {
          "base_uri": "https://localhost:8080/"
        },
        "id": "LHkdM4X6JADQ",
        "outputId": "b4a0e696-ec11-4002-e3d7-ab695a343358"
      },
      "execution_count": null,
      "outputs": [
        {
          "output_type": "execute_result",
          "data": {
            "text/plain": [
              "[10, 20, 30, 40, 50]"
            ]
          },
          "metadata": {},
          "execution_count": 4
        }
      ]
    },
    {
      "cell_type": "code",
      "source": [
        "type(l)"
      ],
      "metadata": {
        "colab": {
          "base_uri": "https://localhost:8080/"
        },
        "id": "i2ZbkDNmJBzM",
        "outputId": "981feb5d-213e-46df-a4f0-9da63870662c"
      },
      "execution_count": null,
      "outputs": [
        {
          "output_type": "execute_result",
          "data": {
            "text/plain": [
              "list"
            ]
          },
          "metadata": {},
          "execution_count": 5
        }
      ]
    },
    {
      "cell_type": "markdown",
      "source": [
        "Liste için kullanabileceğimiz fonksiyonlar: (bazıları özel)"
      ],
      "metadata": {
        "id": "Wl1j3NmHJJMA"
      }
    },
    {
      "cell_type": "code",
      "source": [
        "dir(l)"
      ],
      "metadata": {
        "colab": {
          "base_uri": "https://localhost:8080/"
        },
        "id": "7mnv_VDsJC61",
        "outputId": "e3778864-e92f-4a1f-b6d5-8d127c7f8fa2"
      },
      "execution_count": null,
      "outputs": [
        {
          "output_type": "execute_result",
          "data": {
            "text/plain": [
              "['__add__',\n",
              " '__class__',\n",
              " '__class_getitem__',\n",
              " '__contains__',\n",
              " '__delattr__',\n",
              " '__delitem__',\n",
              " '__dir__',\n",
              " '__doc__',\n",
              " '__eq__',\n",
              " '__format__',\n",
              " '__ge__',\n",
              " '__getattribute__',\n",
              " '__getitem__',\n",
              " '__gt__',\n",
              " '__hash__',\n",
              " '__iadd__',\n",
              " '__imul__',\n",
              " '__init__',\n",
              " '__init_subclass__',\n",
              " '__iter__',\n",
              " '__le__',\n",
              " '__len__',\n",
              " '__lt__',\n",
              " '__mul__',\n",
              " '__ne__',\n",
              " '__new__',\n",
              " '__reduce__',\n",
              " '__reduce_ex__',\n",
              " '__repr__',\n",
              " '__reversed__',\n",
              " '__rmul__',\n",
              " '__setattr__',\n",
              " '__setitem__',\n",
              " '__sizeof__',\n",
              " '__str__',\n",
              " '__subclasshook__',\n",
              " 'append',\n",
              " 'clear',\n",
              " 'copy',\n",
              " 'count',\n",
              " 'extend',\n",
              " 'index',\n",
              " 'insert',\n",
              " 'pop',\n",
              " 'remove',\n",
              " 'reverse',\n",
              " 'sort']"
            ]
          },
          "metadata": {},
          "execution_count": 6
        }
      ]
    },
    {
      "cell_type": "markdown",
      "source": [
        "Listelerin diğer veri yapılarından en önemli farklarından birisi elemanlarının farklı veri tiplerinde (veri yapısı da olabilir) olabilmesidir:"
      ],
      "metadata": {
        "id": "Qu5_Y5XaJUcj"
      }
    },
    {
      "cell_type": "code",
      "source": [
        "liste1 = [1,\"A\",[1,2,3,4,5,6],(10,20,30,40)]"
      ],
      "metadata": {
        "id": "hnnvo9PBJFn5"
      },
      "execution_count": null,
      "outputs": []
    },
    {
      "cell_type": "code",
      "source": [
        "liste1"
      ],
      "metadata": {
        "colab": {
          "base_uri": "https://localhost:8080/"
        },
        "id": "dEx8iHcvJtYk",
        "outputId": "8b00d455-9b78-4266-87b1-bd6626c8251a"
      },
      "execution_count": null,
      "outputs": [
        {
          "output_type": "execute_result",
          "data": {
            "text/plain": [
              "[1, 'A', [1, 2, 3, 4, 5, 6], (10, 20, 30, 40)]"
            ]
          },
          "metadata": {},
          "execution_count": 9
        }
      ]
    },
    {
      "cell_type": "markdown",
      "source": [
        "Tıpkı dizilerde olduğu gibi indeksle elemanlara erişebilmek mümkündür:"
      ],
      "metadata": {
        "id": "XKCfujUTJ6qm"
      }
    },
    {
      "cell_type": "code",
      "source": [
        "print(liste1[0])\n",
        "print(liste1[2])\n",
        "print(liste1[2][3])\n",
        "print(liste1[-1])\n",
        "print(liste1[-1][-2])"
      ],
      "metadata": {
        "colab": {
          "base_uri": "https://localhost:8080/"
        },
        "id": "-dbdC9M6JuMS",
        "outputId": "316276fe-c407-437d-d521-b452b9ecf03d"
      },
      "execution_count": null,
      "outputs": [
        {
          "output_type": "stream",
          "name": "stdout",
          "text": [
            "1\n",
            "[1, 2, 3, 4, 5, 6]\n",
            "4\n",
            "(10, 20, 30, 40)\n",
            "30\n"
          ]
        }
      ]
    },
    {
      "cell_type": "code",
      "source": [
        "a=1\n",
        "b=2\n",
        "liste1[a+b]"
      ],
      "metadata": {
        "colab": {
          "base_uri": "https://localhost:8080/"
        },
        "id": "S5FUCY-rKBml",
        "outputId": "fd3bd5ca-489c-4627-a470-9cecaa219cd5"
      },
      "execution_count": null,
      "outputs": [
        {
          "output_type": "execute_result",
          "data": {
            "text/plain": [
              "(10, 20, 30, 40)"
            ]
          },
          "metadata": {},
          "execution_count": 24
        }
      ]
    },
    {
      "cell_type": "markdown",
      "source": [
        "Liste içerisinde indeks kullanarak eleman değiştirmek mümkündür: (***Önemli*** bir özellik)"
      ],
      "metadata": {
        "id": "RiX2DlFKK1lg"
      }
    },
    {
      "cell_type": "code",
      "source": [
        "liste1[1] = \"Sabir\"\n",
        "print(liste1)"
      ],
      "metadata": {
        "colab": {
          "base_uri": "https://localhost:8080/"
        },
        "id": "MO9k9kSZKEvD",
        "outputId": "e44466d6-06cc-4db2-ff8e-c8e9a4ebd227"
      },
      "execution_count": null,
      "outputs": [
        {
          "output_type": "stream",
          "name": "stdout",
          "text": [
            "[1, 'Sabir', [1, 2, 3, 4, 5, 6], (10, 20, 30, 40)]\n"
          ]
        }
      ]
    },
    {
      "cell_type": "markdown",
      "source": [
        "Liste ve for döngüsü "
      ],
      "metadata": {
        "id": "Er3enKGTLccj"
      }
    },
    {
      "cell_type": "code",
      "source": [
        "liste2 = [0,1,2,3,4]\n",
        "for i in liste2:\n",
        "  print(liste2[i])"
      ],
      "metadata": {
        "colab": {
          "base_uri": "https://localhost:8080/"
        },
        "id": "79nfghFdK-sW",
        "outputId": "a2b02696-c7dc-4e56-f432-ac89f49ba656"
      },
      "execution_count": null,
      "outputs": [
        {
          "output_type": "stream",
          "name": "stdout",
          "text": [
            "0\n",
            "1\n",
            "2\n",
            "3\n",
            "4\n"
          ]
        }
      ]
    },
    {
      "cell_type": "code",
      "source": [
        "liste3 = []\n",
        "\n",
        "for i in range(6):\n",
        "  liste3 += [i]  # liste[i] = liste[i] + i\n",
        "  print(liste3[i])"
      ],
      "metadata": {
        "colab": {
          "base_uri": "https://localhost:8080/"
        },
        "id": "nM7iD2_rLrIX",
        "outputId": "9717d8fd-d4e6-4152-9e35-c50fbdcc29d2"
      },
      "execution_count": null,
      "outputs": [
        {
          "output_type": "stream",
          "name": "stdout",
          "text": [
            "0\n",
            "1\n",
            "2\n",
            "3\n",
            "4\n",
            "5\n"
          ]
        }
      ]
    },
    {
      "cell_type": "code",
      "source": [
        "liste3 += \"SABIR\"\n",
        "print(liste3)"
      ],
      "metadata": {
        "colab": {
          "base_uri": "https://localhost:8080/"
        },
        "id": "O4eVPYbGMGWJ",
        "outputId": "87d3a4a4-5b5b-4220-adcc-e97379d5438d"
      },
      "execution_count": null,
      "outputs": [
        {
          "output_type": "stream",
          "name": "stdout",
          "text": [
            "[0, 1, 2, 3, 4, 5, 'S', 'A', 'B', 'I', 'R']\n"
          ]
        }
      ]
    },
    {
      "cell_type": "code",
      "source": [
        "print(liste2 + liste3)"
      ],
      "metadata": {
        "colab": {
          "base_uri": "https://localhost:8080/"
        },
        "id": "vQEZlr06MYPI",
        "outputId": "3aefe5e2-34ee-4d2d-d2fe-b4381fd15ad5"
      },
      "execution_count": null,
      "outputs": [
        {
          "output_type": "stream",
          "name": "stdout",
          "text": [
            "[0, 1, 2, 3, 4, 0, 1, 2, 3, 4, 5, 'S', 'A', 'B', 'I', 'R']\n"
          ]
        }
      ]
    },
    {
      "cell_type": "markdown",
      "source": [
        "Listeler arasında karşılaştırma yapılabilir:"
      ],
      "metadata": {
        "id": "b7WxpAv1OUr5"
      }
    },
    {
      "cell_type": "code",
      "source": [
        "liste2 == liste3"
      ],
      "metadata": {
        "colab": {
          "base_uri": "https://localhost:8080/"
        },
        "id": "A2xppsKUMdn5",
        "outputId": "62ca5772-d89e-4dd1-bbc3-73fb4db56762"
      },
      "execution_count": null,
      "outputs": [
        {
          "output_type": "execute_result",
          "data": {
            "text/plain": [
              "False"
            ]
          },
          "metadata": {},
          "execution_count": 58
        }
      ]
    },
    {
      "cell_type": "code",
      "source": [
        "liste2 < liste3"
      ],
      "metadata": {
        "colab": {
          "base_uri": "https://localhost:8080/"
        },
        "id": "wQis5CIsOcJ5",
        "outputId": "c3f434c4-7735-4388-d0f2-0ba038278f64"
      },
      "execution_count": null,
      "outputs": [
        {
          "output_type": "execute_result",
          "data": {
            "text/plain": [
              "True"
            ]
          },
          "metadata": {},
          "execution_count": 59
        }
      ]
    },
    {
      "cell_type": "code",
      "source": [
        "liste2 > liste3\n"
      ],
      "metadata": {
        "colab": {
          "base_uri": "https://localhost:8080/"
        },
        "id": "7LX3CcIqOeyC",
        "outputId": "47e1b52f-f365-4305-d039-0fd4705fcaa1"
      },
      "execution_count": null,
      "outputs": [
        {
          "output_type": "stream",
          "name": "stdout",
          "text": [
            "10\n"
          ]
        }
      ]
    },
    {
      "cell_type": "markdown",
      "source": [
        "**Ödev:** Elimizde bir liste var. Bu listenin  normalizasyonunun yer aldığı yeni bir liste üreten fonksiyon yazınız. "
      ],
      "metadata": {
        "id": "Jf2xXJj2OtEt"
      }
    },
    {
      "cell_type": "code",
      "source": [
        "def normalizasyon (l):    # Ders kaydinda bulunan\n",
        "  total = sum(l)\n",
        "  normalized_list = [val/total for val in l]\n",
        "  return normalized_list\n",
        "\n",
        "liste4 = [23,34,454,45]\n",
        "print(normalizasyon(liste4))"
      ],
      "metadata": {
        "colab": {
          "base_uri": "https://localhost:8080/"
        },
        "id": "FtZJydWwOnT6",
        "outputId": "0b14c237-9a13-422c-8250-0d78df0a6c22"
      },
      "execution_count": null,
      "outputs": [
        {
          "output_type": "stream",
          "name": "stdout",
          "text": [
            "[0.04136690647482014, 0.06115107913669065, 0.8165467625899281, 0.08093525179856115]\n"
          ]
        }
      ]
    },
    {
      "cell_type": "code",
      "source": [
        "def normalizasyon (l):  # Benim yazdigim\n",
        "  total = sum(l)\n",
        "  normalized_list =[]\n",
        "  for i in range(len(l)):\n",
        "    normalized_list.append(l[i]/total)\n",
        "  return normalized_list\n",
        "\n",
        "liste4 = [23,34,454,45]\n",
        "print(normalizasyon(liste4))"
      ],
      "metadata": {
        "colab": {
          "base_uri": "https://localhost:8080/"
        },
        "id": "xEB5qkEBdbUh",
        "outputId": "5b35aa2f-c8b1-4c31-e8be-733c349e8847"
      },
      "execution_count": null,
      "outputs": [
        {
          "output_type": "stream",
          "name": "stdout",
          "text": [
            "[0.04136690647482014, 0.06115107913669065, 0.8165467625899281, 0.08093525179856115]\n"
          ]
        }
      ]
    },
    {
      "cell_type": "markdown",
      "source": [
        "Tuple tanımı:"
      ],
      "metadata": {
        "id": "PcGILF0ZkrpZ"
      }
    },
    {
      "cell_type": "code",
      "source": [
        "t = ()"
      ],
      "metadata": {
        "id": "kOAD6NzNkqu6"
      },
      "execution_count": null,
      "outputs": []
    },
    {
      "cell_type": "code",
      "source": [
        "t"
      ],
      "metadata": {
        "colab": {
          "base_uri": "https://localhost:8080/"
        },
        "id": "nHQTyjVhk0UP",
        "outputId": "d81e18a7-a00a-4172-8fab-5a54494cd860"
      },
      "execution_count": null,
      "outputs": [
        {
          "output_type": "execute_result",
          "data": {
            "text/plain": [
              "()"
            ]
          },
          "metadata": {},
          "execution_count": 85
        }
      ]
    },
    {
      "cell_type": "code",
      "source": [
        "t = (1,)"
      ],
      "metadata": {
        "id": "UwX85nTPk3XT"
      },
      "execution_count": null,
      "outputs": []
    },
    {
      "cell_type": "code",
      "source": [
        "t"
      ],
      "metadata": {
        "colab": {
          "base_uri": "https://localhost:8080/"
        },
        "id": "9e4zVXtMk5SK",
        "outputId": "08ca3d29-a39a-4d65-fa7f-dbd0283730b5"
      },
      "execution_count": null,
      "outputs": [
        {
          "output_type": "execute_result",
          "data": {
            "text/plain": [
              "(1,)"
            ]
          },
          "metadata": {},
          "execution_count": 88
        }
      ]
    },
    {
      "cell_type": "markdown",
      "source": [
        "Tuple listeden farklı olarak değiştirilemez:"
      ],
      "metadata": {
        "id": "5dWnUUT2lDde"
      }
    },
    {
      "cell_type": "code",
      "source": [
        "t[0] = 100020  #HATA: TypeError: 'tuple' object does not support item assignment\n"
      ],
      "metadata": {
        "colab": {
          "base_uri": "https://localhost:8080/",
          "height": 165
        },
        "id": "Y1wsfYtdk5vp",
        "outputId": "3e384f3e-9ee4-44f9-b82f-65dc9d5995b9"
      },
      "execution_count": null,
      "outputs": [
        {
          "output_type": "error",
          "ename": "TypeError",
          "evalue": "ignored",
          "traceback": [
            "\u001b[0;31m---------------------------------------------------------------------------\u001b[0m",
            "\u001b[0;31mTypeError\u001b[0m                                 Traceback (most recent call last)",
            "\u001b[0;32m<ipython-input-90-ed8d626db3c2>\u001b[0m in \u001b[0;36m<cell line: 1>\u001b[0;34m()\u001b[0m\n\u001b[0;32m----> 1\u001b[0;31m \u001b[0mt\u001b[0m\u001b[0;34m[\u001b[0m\u001b[0;36m0\u001b[0m\u001b[0;34m]\u001b[0m \u001b[0;34m=\u001b[0m \u001b[0;36m100020\u001b[0m  \u001b[0;31m#HATA: TypeError: 'tuple' object does not support item assignment\u001b[0m\u001b[0;34m\u001b[0m\u001b[0;34m\u001b[0m\u001b[0m\n\u001b[0m",
            "\u001b[0;31mTypeError\u001b[0m: 'tuple' object does not support item assignment"
          ]
        }
      ]
    },
    {
      "cell_type": "markdown",
      "source": [
        "`tuple`'ı başka bir tuple'a aktarmak mümkündür:"
      ],
      "metadata": {
        "id": "7q4A7aVFlP7F"
      }
    },
    {
      "cell_type": "code",
      "source": [
        "t2 = ()\n",
        "t2 = t"
      ],
      "metadata": {
        "id": "oYc0Xiy_lJBe"
      },
      "execution_count": null,
      "outputs": []
    },
    {
      "cell_type": "code",
      "source": [
        "t2"
      ],
      "metadata": {
        "colab": {
          "base_uri": "https://localhost:8080/"
        },
        "id": "D_wU7tbelN5l",
        "outputId": "58c2d855-3d95-48e8-be17-408f30515268"
      },
      "execution_count": null,
      "outputs": [
        {
          "output_type": "execute_result",
          "data": {
            "text/plain": [
              "(1,)"
            ]
          },
          "metadata": {},
          "execution_count": 95
        }
      ]
    },
    {
      "cell_type": "markdown",
      "source": [
        "`tuple` leri toplamak mümkündür:"
      ],
      "metadata": {
        "id": "GPMkKmdTlYJr"
      }
    },
    {
      "cell_type": "code",
      "source": [
        "t3 = (112,34,5456,6543,\"Sabir\", \"Suleymanli\")\n",
        "t4 = t3 + t\n",
        "t5 = t +t3"
      ],
      "metadata": {
        "id": "UpCwr2S7lO6o"
      },
      "execution_count": null,
      "outputs": []
    },
    {
      "cell_type": "code",
      "source": [
        "t4"
      ],
      "metadata": {
        "colab": {
          "base_uri": "https://localhost:8080/"
        },
        "id": "Y72YuIG6ld3_",
        "outputId": "c02938d7-7f1e-429c-a036-7f4eccef34d6"
      },
      "execution_count": null,
      "outputs": [
        {
          "output_type": "execute_result",
          "data": {
            "text/plain": [
              "(112, 34, 5456, 6543, 'Sabir', 'Suleymanli', 1)"
            ]
          },
          "metadata": {},
          "execution_count": 107
        }
      ]
    },
    {
      "cell_type": "code",
      "source": [
        "t5"
      ],
      "metadata": {
        "colab": {
          "base_uri": "https://localhost:8080/"
        },
        "id": "KBvfx-gSleUK",
        "outputId": "98ae3a06-fd45-42fb-b34f-def2c575e94a"
      },
      "execution_count": null,
      "outputs": [
        {
          "output_type": "execute_result",
          "data": {
            "text/plain": [
              "(1, 112, 34, 5456, 6543, 'Sabir', 'Suleymanli')"
            ]
          },
          "metadata": {},
          "execution_count": 108
        }
      ]
    },
    {
      "cell_type": "markdown",
      "source": [
        "Listeye Tuple eklemek mümkündür, fakat tuple'a liste eklemek mümkün değildir:"
      ],
      "metadata": {
        "id": "yJs_NaW8mSai"
      }
    },
    {
      "cell_type": "code",
      "source": [
        "liste1+= t5"
      ],
      "metadata": {
        "id": "fJ-6xzIYl0TO"
      },
      "execution_count": null,
      "outputs": []
    },
    {
      "cell_type": "code",
      "source": [
        "liste1"
      ],
      "metadata": {
        "colab": {
          "base_uri": "https://localhost:8080/"
        },
        "id": "EIyJfRsbmFD-",
        "outputId": "cf6277ef-ab42-49d5-f5f1-fb2a04682a73"
      },
      "execution_count": null,
      "outputs": [
        {
          "output_type": "execute_result",
          "data": {
            "text/plain": [
              "[1,\n",
              " 'Sabir',\n",
              " [1, 2, 3, 4, 5, 6],\n",
              " (10, 20, 30, 40),\n",
              " 1,\n",
              " 1,\n",
              " 1,\n",
              " 112,\n",
              " 34,\n",
              " 5456,\n",
              " 6543,\n",
              " 'Sabir',\n",
              " 'Suleymanli']"
            ]
          },
          "metadata": {},
          "execution_count": 118
        }
      ]
    },
    {
      "cell_type": "code",
      "source": [
        "t5 += liste1 #HATA: TypeError: can only concatenate tuple (not \"list\") to tuple"
      ],
      "metadata": {
        "colab": {
          "base_uri": "https://localhost:8080/",
          "height": 165
        },
        "id": "RYjtusXnmMjS",
        "outputId": "52757c97-0cc8-4ce3-cda6-6f81837a7a9e"
      },
      "execution_count": null,
      "outputs": [
        {
          "output_type": "error",
          "ename": "TypeError",
          "evalue": "ignored",
          "traceback": [
            "\u001b[0;31m---------------------------------------------------------------------------\u001b[0m",
            "\u001b[0;31mTypeError\u001b[0m                                 Traceback (most recent call last)",
            "\u001b[0;32m<ipython-input-120-f19802fdfff3>\u001b[0m in \u001b[0;36m<cell line: 1>\u001b[0;34m()\u001b[0m\n\u001b[0;32m----> 1\u001b[0;31m \u001b[0mt5\u001b[0m \u001b[0;34m+=\u001b[0m \u001b[0mliste1\u001b[0m \u001b[0;31m#HATA: TypeError: can only concatenate tuple (not \"list\") to tuple\u001b[0m\u001b[0;34m\u001b[0m\u001b[0;34m\u001b[0m\u001b[0m\n\u001b[0m",
            "\u001b[0;31mTypeError\u001b[0m: can only concatenate tuple (not \"list\") to tuple"
          ]
        }
      ]
    },
    {
      "cell_type": "markdown",
      "source": [
        "Bildiğimiz gibi bir tuple'in elemanını indeks üzerinden değiştirmek mümkün değildir. Fakat eğer `tuple` ın elemanları arasında liste varsa, ozaman 2 parametreli indeksle bulunan listeye erişip eleman ekleme mümkündür:"
      ],
      "metadata": {
        "id": "Fl3tja5GmuDR"
      }
    },
    {
      "cell_type": "code",
      "source": [
        "tuple1 = (1,2,3,4,['a','b','c','d'])"
      ],
      "metadata": {
        "id": "InYkkBA9mj9f"
      },
      "execution_count": null,
      "outputs": []
    },
    {
      "cell_type": "code",
      "source": [
        "tuple1[4] = 0 #HATA: TypeError: 'tuple' object does not support item assignment"
      ],
      "metadata": {
        "colab": {
          "base_uri": "https://localhost:8080/",
          "height": 165
        },
        "id": "HENk32E9oHsF",
        "outputId": "b3a5ccb7-ee86-4112-d415-4c20aa780323"
      },
      "execution_count": null,
      "outputs": [
        {
          "output_type": "error",
          "ename": "TypeError",
          "evalue": "ignored",
          "traceback": [
            "\u001b[0;31m---------------------------------------------------------------------------\u001b[0m",
            "\u001b[0;31mTypeError\u001b[0m                                 Traceback (most recent call last)",
            "\u001b[0;32m<ipython-input-122-fe00700a3ee6>\u001b[0m in \u001b[0;36m<cell line: 1>\u001b[0;34m()\u001b[0m\n\u001b[0;32m----> 1\u001b[0;31m \u001b[0mtuple1\u001b[0m\u001b[0;34m[\u001b[0m\u001b[0;36m4\u001b[0m\u001b[0;34m]\u001b[0m \u001b[0;34m=\u001b[0m \u001b[0;36m0\u001b[0m\u001b[0;34m\u001b[0m\u001b[0;34m\u001b[0m\u001b[0m\n\u001b[0m",
            "\u001b[0;31mTypeError\u001b[0m: 'tuple' object does not support item assignment"
          ]
        }
      ]
    },
    {
      "cell_type": "code",
      "source": [
        "tuple1[4][3] = 0\n",
        "print(tuple1)"
      ],
      "metadata": {
        "colab": {
          "base_uri": "https://localhost:8080/"
        },
        "id": "AFe96XhkoMjW",
        "outputId": "f7b6def7-bc6d-4259-cb1a-f8d2b45e4a69"
      },
      "execution_count": null,
      "outputs": [
        {
          "output_type": "stream",
          "name": "stdout",
          "text": [
            "(1, 2, 3, 4, ['a', 'b', 'c', 0])\n"
          ]
        }
      ]
    },
    {
      "cell_type": "code",
      "source": [
        "ozel_liste = list(range(5,10))"
      ],
      "metadata": {
        "id": "dh2EJB7voVKE"
      },
      "execution_count": null,
      "outputs": []
    },
    {
      "cell_type": "markdown",
      "source": [
        "`enumerate() ` built in fonksiyonu, hem listenin elemanları hem de listenin indeksleri gösterir:"
      ],
      "metadata": {
        "id": "vzagobdaqC9d"
      }
    },
    {
      "cell_type": "code",
      "source": [
        "enumerate(ozel_liste)"
      ],
      "metadata": {
        "colab": {
          "base_uri": "https://localhost:8080/"
        },
        "id": "GuFVScDmpvQL",
        "outputId": "c3877635-dac1-4b12-b9be-a248fddbcfc9"
      },
      "execution_count": null,
      "outputs": [
        {
          "output_type": "execute_result",
          "data": {
            "text/plain": [
              "<enumerate at 0x7f9106c083c0>"
            ]
          },
          "metadata": {},
          "execution_count": 130
        }
      ]
    },
    {
      "cell_type": "code",
      "source": [
        "list(enumerate(ozel_liste))"
      ],
      "metadata": {
        "colab": {
          "base_uri": "https://localhost:8080/"
        },
        "id": "YzyimWymp76N",
        "outputId": "78d4ca61-468a-4f6f-fa37-213eae70d377"
      },
      "execution_count": null,
      "outputs": [
        {
          "output_type": "execute_result",
          "data": {
            "text/plain": [
              "[(0, 5), (1, 6), (2, 7), (3, 8), (4, 9)]"
            ]
          },
          "metadata": {},
          "execution_count": 131
        }
      ]
    },
    {
      "cell_type": "code",
      "source": [
        "for i,j in enumerate(ozel_liste):\n",
        "  print(f'Indeks: {i:>3}  Deger: {j:>3}')"
      ],
      "metadata": {
        "colab": {
          "base_uri": "https://localhost:8080/"
        },
        "id": "r7e83PTQqAWn",
        "outputId": "7e9007bf-ae29-4c77-b404-d097302fd701"
      },
      "execution_count": null,
      "outputs": [
        {
          "output_type": "stream",
          "name": "stdout",
          "text": [
            "Indeks:   0  Deger:   5\n",
            "Indeks:   1  Deger:   6\n",
            "Indeks:   2  Deger:   7\n",
            "Indeks:   3  Deger:   8\n",
            "Indeks:   4  Deger:   9\n"
          ]
        }
      ]
    },
    {
      "cell_type": "code",
      "source": [
        "  ozel_liste = ['a','b','c',1,2,3,4,5,6,7,8,9]\n"
      ],
      "metadata": {
        "id": "sv6J0qlPrHTM"
      },
      "execution_count": null,
      "outputs": []
    },
    {
      "cell_type": "markdown",
      "source": [
        "`del` keywordu ile listenin istediğimiz kısmını (hepsini de olabilir) bellekten silebiliriz:"
      ],
      "metadata": {
        "id": "qdPXKMEptuun"
      }
    },
    {
      "cell_type": "code",
      "source": [
        "del ozel_liste[2:8]"
      ],
      "metadata": {
        "id": "t2QdiPP3tB2T"
      },
      "execution_count": null,
      "outputs": []
    },
    {
      "cell_type": "code",
      "source": [
        "ozel_liste"
      ],
      "metadata": {
        "colab": {
          "base_uri": "https://localhost:8080/"
        },
        "id": "RSXzABuPtpfh",
        "outputId": "f387b705-2505-4699-d8fe-b77f54b51e3f"
      },
      "execution_count": null,
      "outputs": [
        {
          "output_type": "execute_result",
          "data": {
            "text/plain": [
              "['a', 'b', 6, 7, 8, 9]"
            ]
          },
          "metadata": {},
          "execution_count": 144
        }
      ]
    },
    {
      "cell_type": "code",
      "source": [
        "del ozel_liste[:]"
      ],
      "metadata": {
        "id": "DlkaK0INuK8S"
      },
      "execution_count": null,
      "outputs": []
    },
    {
      "cell_type": "code",
      "source": [
        "ozel_liste"
      ],
      "metadata": {
        "colab": {
          "base_uri": "https://localhost:8080/"
        },
        "id": "tf-RJ46MuMpT",
        "outputId": "c56ef24f-2850-496d-f105-4f403f94cd76"
      },
      "execution_count": null,
      "outputs": [
        {
          "output_type": "execute_result",
          "data": {
            "text/plain": [
              "[]"
            ]
          },
          "metadata": {},
          "execution_count": 147
        }
      ]
    },
    {
      "cell_type": "code",
      "source": [
        "del ozel_liste["
      ],
      "metadata": {
        "colab": {
          "base_uri": "https://localhost:8080/",
          "height": 130
        },
        "id": "iJsfaspluYCV",
        "outputId": "24bc7792-15b1-4a38-a54b-19633b7b64bf"
      },
      "execution_count": null,
      "outputs": [
        {
          "output_type": "error",
          "ename": "SyntaxError",
          "evalue": "ignored",
          "traceback": [
            "\u001b[0;36m  File \u001b[0;32m\"<ipython-input-151-ee84cff83da6>\"\u001b[0;36m, line \u001b[0;32m1\u001b[0m\n\u001b[0;31m    del ozel_liste[]\u001b[0m\n\u001b[0m                   ^\u001b[0m\n\u001b[0;31mSyntaxError\u001b[0m\u001b[0;31m:\u001b[0m invalid syntax\n"
          ]
        }
      ]
    },
    {
      "cell_type": "code",
      "source": [
        "  ozel_liste = ['a','b','c',1,2,3,4,5,6,7,8,9]\n",
        "  del ozel_liste"
      ],
      "metadata": {
        "id": "lBcd4-93ua6C"
      },
      "execution_count": null,
      "outputs": []
    },
    {
      "cell_type": "code",
      "source": [
        "ozel_liste # Hafizadan silindigi icin NameError: name 'ozel_liste' is not defined hatasi vermekte"
      ],
      "metadata": {
        "colab": {
          "base_uri": "https://localhost:8080/",
          "height": 165
        },
        "id": "MR1sGwEgucCN",
        "outputId": "1dc269a8-fdb1-422d-fe9f-3f0a05ffc314"
      },
      "execution_count": null,
      "outputs": [
        {
          "output_type": "error",
          "ename": "NameError",
          "evalue": "ignored",
          "traceback": [
            "\u001b[0;31m---------------------------------------------------------------------------\u001b[0m",
            "\u001b[0;31mNameError\u001b[0m                                 Traceback (most recent call last)",
            "\u001b[0;32m<ipython-input-155-3bcf1ece7ab2>\u001b[0m in \u001b[0;36m<cell line: 1>\u001b[0;34m()\u001b[0m\n\u001b[0;32m----> 1\u001b[0;31m \u001b[0mozel_liste\u001b[0m\u001b[0;34m\u001b[0m\u001b[0;34m\u001b[0m\u001b[0m\n\u001b[0m",
            "\u001b[0;31mNameError\u001b[0m: name 'ozel_liste' is not defined"
          ]
        }
      ]
    },
    {
      "cell_type": "code",
      "source": [
        "def ikiileCarp(x):\n",
        "  \"\"\" Listenin her elemanini 2 ile carpip yeniden listeye ekleyen fonksiyon \"\"\"\n",
        "\n",
        "  for i in range(len(x)):\n",
        "    x[i] = x[i]*2\n",
        "  for j in range(len(x)):\n",
        "    print(x[j])"
      ],
      "metadata": {
        "id": "uW_Nj3AEutQU"
      },
      "execution_count": null,
      "outputs": []
    },
    {
      "cell_type": "code",
      "source": [
        "ozel_liste = ['a','b','c',1,2,3,4,5,6,7,8,9]\n",
        "ikiileCarp(ozel_liste)"
      ],
      "metadata": {
        "colab": {
          "base_uri": "https://localhost:8080/"
        },
        "id": "5UdL2ajXvSXZ",
        "outputId": "4757751c-b24c-4749-8bf6-b1a0fd191e94"
      },
      "execution_count": null,
      "outputs": [
        {
          "output_type": "stream",
          "name": "stdout",
          "text": [
            "aa\n",
            "bb\n",
            "cc\n",
            "2\n",
            "4\n",
            "6\n",
            "8\n",
            "10\n",
            "12\n",
            "14\n",
            "16\n",
            "18\n"
          ]
        }
      ]
    },
    {
      "cell_type": "markdown",
      "source": [
        "##`.count()` fonksiyonu\n",
        "Aldığı input parametresinden listede kaç tane bulunduğu bilgisini geri döner. Örn:"
      ],
      "metadata": {
        "id": "lL-4rjxHwMRJ"
      }
    },
    {
      "cell_type": "code",
      "source": [
        "  ozel_liste = ['a','b','c',1,2,3,4,5,6,7,8,9,2,4,87,9,6,6]\n",
        "  ozel_liste.count(6)"
      ],
      "metadata": {
        "colab": {
          "base_uri": "https://localhost:8080/"
        },
        "id": "jr3vSvPrviYq",
        "outputId": "dc96cda5-e6d6-4e4a-d802-9c45c09f2131"
      },
      "execution_count": null,
      "outputs": [
        {
          "output_type": "execute_result",
          "data": {
            "text/plain": [
              "3"
            ]
          },
          "metadata": {},
          "execution_count": 166
        }
      ]
    },
    {
      "cell_type": "markdown",
      "source": [
        "##`.sorted()` fonksiyonu\n",
        "Listeyi küçükten byüüğe sıralar. (String ve integer değerler bulunan listelerde bu iki veri türünü kıyaslayamadığı için `TypeError: '<' not supported between instances of 'int' and 'str'` hatasını verir)"
      ],
      "metadata": {
        "id": "FBP1CUZkwv7I"
      }
    },
    {
      "cell_type": "code",
      "source": [
        "ozel_liste = [1,2,3,6,7,8,9,2,4,87,9,6,6]\n",
        "sorted(ozel_liste)"
      ],
      "metadata": {
        "colab": {
          "base_uri": "https://localhost:8080/"
        },
        "id": "fkuC0FYzwhRB",
        "outputId": "b91fb237-253a-41f6-ce3e-add9163ac613"
      },
      "execution_count": null,
      "outputs": [
        {
          "output_type": "execute_result",
          "data": {
            "text/plain": [
              "[1, 2, 2, 3, 4, 6, 6, 6, 7, 8, 9, 9, 87]"
            ]
          },
          "metadata": {},
          "execution_count": 168
        }
      ]
    },
    {
      "cell_type": "markdown",
      "source": [
        "`reverse` parametresinin değerine göre bu listeyi tersten (küçükten büyüğe) de sıralayabiliriz:"
      ],
      "metadata": {
        "id": "YRMq7oA2xRJ4"
      }
    },
    {
      "cell_type": "code",
      "source": [
        "sorted(ozel_liste,reverse =True)"
      ],
      "metadata": {
        "colab": {
          "base_uri": "https://localhost:8080/"
        },
        "id": "e7ny-wApwpgr",
        "outputId": "3cdee63a-caef-4280-d44f-1e506e87eb60"
      },
      "execution_count": null,
      "outputs": [
        {
          "output_type": "execute_result",
          "data": {
            "text/plain": [
              "[87, 9, 9, 8, 7, 6, 6, 6, 4, 3, 2, 2, 1]"
            ]
          },
          "metadata": {},
          "execution_count": 169
        }
      ]
    }
  ]
}
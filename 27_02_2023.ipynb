{
  "nbformat": 4,
  "nbformat_minor": 0,
  "metadata": {
    "colab": {
      "provenance": [],
      "authorship_tag": "ABX9TyNlb/ud8I0qRbgXu+NcYvz3",
      "include_colab_link": true
    },
    "kernelspec": {
      "name": "python3",
      "display_name": "Python 3"
    },
    "language_info": {
      "name": "python"
    }
  },
  "cells": [
    {
      "cell_type": "markdown",
      "metadata": {
        "id": "view-in-github",
        "colab_type": "text"
      },
      "source": [
        "<a href=\"https://colab.research.google.com/github/sabir-suleyman/BMB2014---PPG/blob/main/27_02_2023.ipynb\" target=\"_parent\"><img src=\"https://colab.research.google.com/assets/colab-badge.svg\" alt=\"Open In Colab\"/></a>"
      ]
    },
    {
      "cell_type": "code",
      "execution_count": null,
      "metadata": {
        "id": "XYXHo_2OtNc9"
      },
      "outputs": [],
      "source": [
        "a = 5"
      ]
    },
    {
      "cell_type": "code",
      "source": [
        "type(None)"
      ],
      "metadata": {
        "colab": {
          "base_uri": "https://localhost:8080/"
        },
        "id": "4E9yIKN5tRj7",
        "outputId": "856a9cd5-73d4-4a8d-f25f-da4be473f481"
      },
      "execution_count": null,
      "outputs": [
        {
          "output_type": "execute_result",
          "data": {
            "text/plain": [
              "NoneType"
            ]
          },
          "metadata": {},
          "execution_count": 2
        }
      ]
    },
    {
      "cell_type": "code",
      "source": [
        "type(a)"
      ],
      "metadata": {
        "colab": {
          "base_uri": "https://localhost:8080/"
        },
        "id": "6aBB8dtOtUSG",
        "outputId": "6bafec24-aede-4b1b-b60c-c7e97ad31627"
      },
      "execution_count": null,
      "outputs": [
        {
          "output_type": "execute_result",
          "data": {
            "text/plain": [
              "int"
            ]
          },
          "metadata": {},
          "execution_count": 3
        }
      ]
    },
    {
      "cell_type": "code",
      "source": [
        "type(10.5)"
      ],
      "metadata": {
        "colab": {
          "base_uri": "https://localhost:8080/"
        },
        "id": "Mfm684ZEtViZ",
        "outputId": "9db5ad93-6115-4851-fa9f-707798d4b252"
      },
      "execution_count": null,
      "outputs": [
        {
          "output_type": "execute_result",
          "data": {
            "text/plain": [
              "float"
            ]
          },
          "metadata": {},
          "execution_count": 4
        }
      ]
    },
    {
      "cell_type": "code",
      "source": [
        "2**3"
      ],
      "metadata": {
        "colab": {
          "base_uri": "https://localhost:8080/"
        },
        "id": "bZqK6hPZteT-",
        "outputId": "7e96650e-65c1-4db4-d25f-b4d5b028a31c"
      },
      "execution_count": null,
      "outputs": [
        {
          "output_type": "execute_result",
          "data": {
            "text/plain": [
              "8"
            ]
          },
          "metadata": {},
          "execution_count": 6
        }
      ]
    },
    {
      "cell_type": "code",
      "source": [
        "print(0.1 + 0.2)"
      ],
      "metadata": {
        "colab": {
          "base_uri": "https://localhost:8080/"
        },
        "id": "XwymCNn9tgVT",
        "outputId": "0dda644a-5d46-4475-e4f7-b3f7257e7748"
      },
      "execution_count": null,
      "outputs": [
        {
          "output_type": "stream",
          "name": "stdout",
          "text": [
            "0.30000000000000004\n"
          ]
        }
      ]
    },
    {
      "cell_type": "code",
      "source": [
        "2/7"
      ],
      "metadata": {
        "colab": {
          "base_uri": "https://localhost:8080/"
        },
        "id": "105L4vastj-w",
        "outputId": "b29e090d-902a-411a-c797-3718bf2e74e6"
      },
      "execution_count": null,
      "outputs": [
        {
          "output_type": "execute_result",
          "data": {
            "text/plain": [
              "0.2857142857142857"
            ]
          },
          "metadata": {},
          "execution_count": 8
        }
      ]
    },
    {
      "cell_type": "code",
      "source": [
        "2//7"
      ],
      "metadata": {
        "colab": {
          "base_uri": "https://localhost:8080/"
        },
        "id": "difHJqa5txS3",
        "outputId": "ee8bb023-4d65-47ab-e52d-f7c1b3f822dd"
      },
      "execution_count": null,
      "outputs": [
        {
          "output_type": "execute_result",
          "data": {
            "text/plain": [
              "0"
            ]
          },
          "metadata": {},
          "execution_count": 10
        }
      ]
    },
    {
      "cell_type": "code",
      "source": [
        "13/4"
      ],
      "metadata": {
        "colab": {
          "base_uri": "https://localhost:8080/"
        },
        "id": "S6_Pqec_t7QG",
        "outputId": "11a912f7-6325-42ea-dfe0-6f4535639c14"
      },
      "execution_count": null,
      "outputs": [
        {
          "output_type": "execute_result",
          "data": {
            "text/plain": [
              "3.25"
            ]
          },
          "metadata": {},
          "execution_count": 13
        }
      ]
    },
    {
      "cell_type": "code",
      "source": [
        "13//4"
      ],
      "metadata": {
        "colab": {
          "base_uri": "https://localhost:8080/"
        },
        "id": "SJodACjotyQt",
        "outputId": "4fdc2eff-92d1-468b-bf29-5c9e6b14bf71"
      },
      "execution_count": null,
      "outputs": [
        {
          "output_type": "execute_result",
          "data": {
            "text/plain": [
              "3"
            ]
          },
          "metadata": {},
          "execution_count": 11
        }
      ]
    },
    {
      "cell_type": "code",
      "source": [
        "-13//4"
      ],
      "metadata": {
        "colab": {
          "base_uri": "https://localhost:8080/"
        },
        "id": "_OGwGZattzpg",
        "outputId": "56a0e442-8141-4cd1-f5d3-4ffe40640b49"
      },
      "execution_count": null,
      "outputs": [
        {
          "output_type": "execute_result",
          "data": {
            "text/plain": [
              "-4"
            ]
          },
          "metadata": {},
          "execution_count": 12
        }
      ]
    },
    {
      "cell_type": "code",
      "source": [
        "2/0 #sifira bolme hatasi ZeroDivisionError"
      ],
      "metadata": {
        "colab": {
          "base_uri": "https://localhost:8080/",
          "height": 165
        },
        "id": "9KGAKjnguJkU",
        "outputId": "046bc872-b6dd-4539-cc1c-c24c4edbe5ac"
      },
      "execution_count": null,
      "outputs": [
        {
          "output_type": "error",
          "ename": "ZeroDivisionError",
          "evalue": "ignored",
          "traceback": [
            "\u001b[0;31m---------------------------------------------------------------------------\u001b[0m",
            "\u001b[0;31mZeroDivisionError\u001b[0m                         Traceback (most recent call last)",
            "\u001b[0;32m<ipython-input-14-a08237474742>\u001b[0m in \u001b[0;36m<cell line: 1>\u001b[0;34m()\u001b[0m\n\u001b[0;32m----> 1\u001b[0;31m \u001b[0;36m2\u001b[0m\u001b[0;34m/\u001b[0m\u001b[0;36m0\u001b[0m \u001b[0;31m#sifira bolme hatasi\u001b[0m\u001b[0;34m\u001b[0m\u001b[0;34m\u001b[0m\u001b[0m\n\u001b[0m",
            "\u001b[0;31mZeroDivisionError\u001b[0m: division by zero"
          ]
        }
      ]
    },
    {
      "cell_type": "code",
      "source": [
        "printf() #Syntax hatasi NameError"
      ],
      "metadata": {
        "colab": {
          "base_uri": "https://localhost:8080/",
          "height": 165
        },
        "id": "oEPOT6WMuMmF",
        "outputId": "9bf650fd-0c56-4ba8-ac7e-0e5b578cc677"
      },
      "execution_count": null,
      "outputs": [
        {
          "output_type": "error",
          "ename": "NameError",
          "evalue": "ignored",
          "traceback": [
            "\u001b[0;31m---------------------------------------------------------------------------\u001b[0m",
            "\u001b[0;31mNameError\u001b[0m                                 Traceback (most recent call last)",
            "\u001b[0;32m<ipython-input-16-969a59c73a9d>\u001b[0m in \u001b[0;36m<cell line: 1>\u001b[0;34m()\u001b[0m\n\u001b[0;32m----> 1\u001b[0;31m \u001b[0mprintf\u001b[0m\u001b[0;34m(\u001b[0m\u001b[0;34m)\u001b[0m \u001b[0;31m#Syntax hatasi NameError\u001b[0m\u001b[0;34m\u001b[0m\u001b[0;34m\u001b[0m\u001b[0m\n\u001b[0m",
            "\u001b[0;31mNameError\u001b[0m: name 'printf' is not defined"
          ]
        }
      ]
    },
    {
      "cell_type": "code",
      "source": [
        "if a<5: \n",
        "print()  #IndentationError "
      ],
      "metadata": {
        "colab": {
          "base_uri": "https://localhost:8080/",
          "height": 130
        },
        "id": "dyb3DDYTuZP2",
        "outputId": "1997edf7-1728-490c-cd7d-82bd4c7db539"
      },
      "execution_count": null,
      "outputs": [
        {
          "output_type": "error",
          "ename": "IndentationError",
          "evalue": "ignored",
          "traceback": [
            "\u001b[0;36m  File \u001b[0;32m\"<ipython-input-21-75673c8c5c87>\"\u001b[0;36m, line \u001b[0;32m2\u001b[0m\n\u001b[0;31m    print()  #IndentationError\u001b[0m\n\u001b[0m    ^\u001b[0m\n\u001b[0;31mIndentationError\u001b[0m\u001b[0;31m:\u001b[0m expected an indented block after 'if' statement on line 1\n"
          ]
        }
      ]
    },
    {
      "cell_type": "code",
      "source": [
        "17%5"
      ],
      "metadata": {
        "colab": {
          "base_uri": "https://localhost:8080/"
        },
        "id": "SdXz5DVFutcl",
        "outputId": "b7322d03-ba48-47b1-ce50-3b3feb5e307d"
      },
      "execution_count": null,
      "outputs": [
        {
          "output_type": "execute_result",
          "data": {
            "text/plain": [
              "2"
            ]
          },
          "metadata": {},
          "execution_count": 23
        }
      ]
    },
    {
      "cell_type": "code",
      "source": [
        "10*(2+5) #parantez oncelige sahip"
      ],
      "metadata": {
        "colab": {
          "base_uri": "https://localhost:8080/"
        },
        "id": "vmoybKgSu8GK",
        "outputId": "af9d0ec1-83da-4fdc-fe22-00916c5821e8"
      },
      "execution_count": null,
      "outputs": [
        {
          "output_type": "execute_result",
          "data": {
            "text/plain": [
              "70"
            ]
          },
          "metadata": {},
          "execution_count": 25
        }
      ]
    },
    {
      "cell_type": "markdown",
      "source": [
        "**Her işlem soldan sağa doğru gerçekleşir, üs işlemi istisnadır.(sağdan sola)**"
      ],
      "metadata": {
        "id": "vZAIb0m9v5lY"
      }
    },
    {
      "cell_type": "code",
      "source": [
        "2**3**5\n"
      ],
      "metadata": {
        "colab": {
          "base_uri": "https://localhost:8080/"
        },
        "id": "kxuBShY4v4xw",
        "outputId": "7da2f896-3386-4082-da84-79245def5d94"
      },
      "execution_count": null,
      "outputs": [
        {
          "output_type": "execute_result",
          "data": {
            "text/plain": [
              "14134776518227074636666380005943348126619871175004951664972849610340958208"
            ]
          },
          "metadata": {},
          "execution_count": 27
        }
      ]
    },
    {
      "cell_type": "code",
      "source": [
        "(2**3)**5"
      ],
      "metadata": {
        "colab": {
          "base_uri": "https://localhost:8080/"
        },
        "id": "DTn4evzawFAK",
        "outputId": "af2b2ee3-66e7-429e-923f-032f1bf244b4"
      },
      "execution_count": null,
      "outputs": [
        {
          "output_type": "execute_result",
          "data": {
            "text/plain": [
              "32768"
            ]
          },
          "metadata": {},
          "execution_count": 29
        }
      ]
    },
    {
      "cell_type": "markdown",
      "source": [
        "**Yazmazsak olmaz!**"
      ],
      "metadata": {
        "id": "2zDTHPkuwUwF"
      }
    },
    {
      "cell_type": "code",
      "source": [
        "print(\"Merhaba Dunya\")"
      ],
      "metadata": {
        "colab": {
          "base_uri": "https://localhost:8080/"
        },
        "id": "Ho4Bv_ORwPMK",
        "outputId": "c37b5625-b910-4488-aa12-e8f186cafb05"
      },
      "execution_count": null,
      "outputs": [
        {
          "output_type": "stream",
          "name": "stdout",
          "text": [
            "Merhaba Dunya\n"
          ]
        }
      ]
    },
    {
      "cell_type": "code",
      "source": [
        "print(\"ben\",\"sen\",\"biz\")"
      ],
      "metadata": {
        "colab": {
          "base_uri": "https://localhost:8080/"
        },
        "id": "UQl-VeL0wYqY",
        "outputId": "d45b8e85-eb76-481c-fd78-f9dfc9222c4b"
      },
      "execution_count": null,
      "outputs": [
        {
          "output_type": "stream",
          "name": "stdout",
          "text": [
            "ben sen biz\n"
          ]
        }
      ]
    },
    {
      "cell_type": "markdown",
      "source": [
        "**Tek tırnak içinde çift, çift tırnak içinde de tek tırnak kullanılabilir. \n",
        " Sadece tek içinde tek, çift içinde çift kullanılamaz!!**"
      ],
      "metadata": {
        "id": "KLjjIFTbwq9P"
      }
    },
    {
      "cell_type": "code",
      "source": [
        "print(\"Merhaba ben 'Sabir'\") #cift icinde tek\n",
        "print('Merhaba ben \"Sabir\"') #tek icinde cift"
      ],
      "metadata": {
        "colab": {
          "base_uri": "https://localhost:8080/"
        },
        "id": "cXy2crMhwkKv",
        "outputId": "9508ab75-b64f-41f5-d643-1974c0862d30"
      },
      "execution_count": null,
      "outputs": [
        {
          "output_type": "stream",
          "name": "stdout",
          "text": [
            "Merhaba ben 'Sabir'\n",
            "Merhaba ben \"Sabir\"\n"
          ]
        }
      ]
    },
    {
      "cell_type": "markdown",
      "source": [
        "**İlla kullanmak isteniyorsa \\ ile kullanılması gerekmektedir.**"
      ],
      "metadata": {
        "id": "fhaYSflSxKs5"
      }
    },
    {
      "cell_type": "code",
      "source": [
        "print('Merhaba ben \\'Sabir\\'') #tek icinde tek\n",
        "print(\"Merhaba ben \\\"Sabir\\\"\") #cift icinde cift"
      ],
      "metadata": {
        "colab": {
          "base_uri": "https://localhost:8080/"
        },
        "id": "DOIHriQtxSQH",
        "outputId": "82c42fec-4b51-46f0-de6f-7abd2cba52c2"
      },
      "execution_count": null,
      "outputs": [
        {
          "output_type": "stream",
          "name": "stdout",
          "text": [
            "Merhaba ben 'Sabir'\n",
            "Merhaba ben \"Sabir\"\n"
          ]
        }
      ]
    },
    {
      "cell_type": "markdown",
      "source": [
        "**\\t**  ---> 4 bosluk (tab) atmak icin kullanilir \n",
        "\n",
        "**\\n**  ---> bir alt satira gecmek icin kullanilir"
      ],
      "metadata": {
        "id": "DnLEIiLHxxoV"
      }
    },
    {
      "cell_type": "code",
      "source": [
        "print(\"Merhaba \\t ben\\n\\\"Sabir\\\"\")"
      ],
      "metadata": {
        "colab": {
          "base_uri": "https://localhost:8080/"
        },
        "id": "t1i_SIYXxf22",
        "outputId": "54f5881f-063e-464f-efb5-f3733b214a98"
      },
      "execution_count": null,
      "outputs": [
        {
          "output_type": "stream",
          "name": "stdout",
          "text": [
            "Merhaba \t ben\n",
            "\"Sabir\"\n"
          ]
        }
      ]
    },
    {
      "cell_type": "markdown",
      "source": [
        "**Sadece \\ kodun satıra sığmadığı durumlarda çok kullanılıyor. Örn. yazacağınız kod satıra sığmadı, normal boşluk atarsanız kod hata verecektir. Bu durumda \\ kullanarak kodunuzu yazmaya devam edebilirsiniz.**"
      ],
      "metadata": {
        "id": "FqyAu-4xyuP-"
      }
    },
    {
      "cell_type": "code",
      "source": [
        "print( \"Mortingen Strayzer selam merhaba \\\n",
        " naber gibi gunluk kullandigimiz kelimeler\")"
      ],
      "metadata": {
        "colab": {
          "base_uri": "https://localhost:8080/"
        },
        "id": "KwnzSmJJyF7X",
        "outputId": "27a7c078-270a-47f1-96a9-8a5acb44c6c8"
      },
      "execution_count": null,
      "outputs": [
        {
          "output_type": "stream",
          "name": "stdout",
          "text": [
            "Mortingen Strayzer selam merhaba  naber gibi gunluk kullandigimiz kelimeler\n"
          ]
        }
      ]
    },
    {
      "cell_type": "code",
      "source": [
        "print(\"sonuc:\",a)\n",
        "print(\"sonuc: \"+ str(a))"
      ],
      "metadata": {
        "colab": {
          "base_uri": "https://localhost:8080/"
        },
        "id": "I-0HWgVOzFFx",
        "outputId": "6380f3f7-8118-4b0d-ac57-30457c6a4695"
      },
      "execution_count": null,
      "outputs": [
        {
          "output_type": "stream",
          "name": "stdout",
          "text": [
            "sonuc: 5\n",
            "sonuc: 5\n"
          ]
        }
      ]
    },
    {
      "cell_type": "markdown",
      "source": [
        "**Docstring:**"
      ],
      "metadata": {
        "id": "0326BqLJzrSG"
      }
    },
    {
      "cell_type": "code",
      "source": [
        "class Insan:\n",
        "  \"\"\"\n",
        "  Burada class in aciklamasi yer alabilir \n",
        "  \"\"\""
      ],
      "metadata": {
        "id": "fUKFj0LPzb99"
      },
      "execution_count": null,
      "outputs": []
    },
    {
      "cell_type": "markdown",
      "source": [
        "**Pythonda input alma :**        `input()`"
      ],
      "metadata": {
        "id": "5wnk0gpkz8_2"
      }
    },
    {
      "cell_type": "code",
      "source": [
        "sayi = input(\"Bir deger giriniz: \")"
      ],
      "metadata": {
        "colab": {
          "base_uri": "https://localhost:8080/"
        },
        "id": "HJwv5vRbz4ip",
        "outputId": "092df5be-1bd2-4654-f600-9b8c69a09c4c"
      },
      "execution_count": null,
      "outputs": [
        {
          "name": "stdout",
          "output_type": "stream",
          "text": [
            "Bir deger giriniz: 25\n"
          ]
        }
      ]
    },
    {
      "cell_type": "markdown",
      "source": [
        "`input()` fonksiyonu ile kullanıcıdan aldığımız stringleri işleme sokmak için `int()` fonksiyonuna da ihtiyaç duyarız:"
      ],
      "metadata": {
        "id": "86r6Shbe0Vw5"
      }
    },
    {
      "cell_type": "code",
      "source": [
        "sayi1 = input(\"Sayi giriniz: \")\n",
        "sayi2 =  input(\"Sayi giriniz: \")\n",
        "#print(sayi1*sayi2) # Bu sekilde yazarsak hata aliriz\n",
        "print(int(sayi1)*int(sayi2))  # Dogrusu bu"
      ],
      "metadata": {
        "colab": {
          "base_uri": "https://localhost:8080/"
        },
        "id": "9gUCAnu-0IUA",
        "outputId": "243e293a-bf26-439f-8ea0-8b7e2f93f425"
      },
      "execution_count": null,
      "outputs": [
        {
          "output_type": "stream",
          "name": "stdout",
          "text": [
            "Sayi giriniz: 5\n",
            "Sayi giriniz: 6\n",
            "30\n"
          ]
        }
      ]
    },
    {
      "cell_type": "markdown",
      "source": [
        "Girilecek inputun numerik olup olmayacağını kontrol etmek:"
      ],
      "metadata": {
        "id": "IC_HSwRb10aX"
      }
    },
    {
      "cell_type": "code",
      "source": [
        "sayi1 = input(\"Sayi giriniz: \")\n",
        "sayi2 =  input(\"Sayi giriniz: \")\n",
        "if sayi1.isalnum() and sayi2.isalnum():\n",
        "  print(int(sayi1)*int(sayi2))  "
      ],
      "metadata": {
        "colab": {
          "base_uri": "https://localhost:8080/"
        },
        "id": "asJMd0n61eVr",
        "outputId": "25b937e5-fb96-4b81-be95-6018b19627cb"
      },
      "execution_count": null,
      "outputs": [
        {
          "name": "stdout",
          "output_type": "stream",
          "text": [
            "Sayi giriniz: \n",
            "Sayi giriniz: \n"
          ]
        }
      ]
    },
    {
      "cell_type": "markdown",
      "source": [
        "16 tabanında `3f` sayısını integere dönüştürme:"
      ],
      "metadata": {
        "id": "roxOH4Gt9R2X"
      }
    },
    {
      "cell_type": "code",
      "source": [
        "int('3f',16)"
      ],
      "metadata": {
        "colab": {
          "base_uri": "https://localhost:8080/"
        },
        "id": "5o6YMI039Jd1",
        "outputId": "0f98414e-2e3b-41e5-b35a-5fd9b0aaa79b"
      },
      "execution_count": null,
      "outputs": [
        {
          "output_type": "execute_result",
          "data": {
            "text/plain": [
              "63"
            ]
          },
          "metadata": {},
          "execution_count": 66
        }
      ]
    },
    {
      "cell_type": "code",
      "source": [
        "x = 5\n",
        "1 <= x <= 10"
      ],
      "metadata": {
        "colab": {
          "base_uri": "https://localhost:8080/"
        },
        "id": "zfndu7-z-Q6O",
        "outputId": "2c9cb33f-96d1-424d-f232-d88d697d0ac7"
      },
      "execution_count": null,
      "outputs": [
        {
          "output_type": "execute_result",
          "data": {
            "text/plain": [
              "True"
            ]
          },
          "metadata": {},
          "execution_count": 75
        }
      ]
    },
    {
      "cell_type": "markdown",
      "source": [
        "Girilen 3 sayıdan küçük olanı bulma:"
      ],
      "metadata": {
        "id": "IWDh6TSW_B9r"
      }
    },
    {
      "cell_type": "code",
      "source": [
        "sayi1 = int(input(\"Sayi gir: \"))  \n",
        "sayi2 = int(input(\"Sayi gir: \")) \n",
        "sayi3 = int(input(\"Sayi gir: \")) \n",
        "\n",
        "minSayi = sayi1\n",
        "\n",
        "if sayi2<= minSayi:\n",
        "  minSayi = sayi2\n",
        "  \n",
        "if sayi3<= minSayi:\n",
        "  minSayi =  sayi3\n",
        "\n",
        "print(f\"En kucuk sayi: {minSayi}\")"
      ],
      "metadata": {
        "colab": {
          "base_uri": "https://localhost:8080/",
          "height": 380
        },
        "id": "5K_MgKtW-UrD",
        "outputId": "d417c20c-1262-4092-c755-2a32a575d2c0"
      },
      "execution_count": null,
      "outputs": [
        {
          "output_type": "error",
          "ename": "KeyboardInterrupt",
          "evalue": "ignored",
          "traceback": [
            "\u001b[0;31m---------------------------------------------------------------------------\u001b[0m",
            "\u001b[0;31mKeyboardInterrupt\u001b[0m                         Traceback (most recent call last)",
            "\u001b[0;32m<ipython-input-82-8aeebeae388c>\u001b[0m in \u001b[0;36m<cell line: 1>\u001b[0;34m()\u001b[0m\n\u001b[0;32m----> 1\u001b[0;31m \u001b[0msayi1\u001b[0m \u001b[0;34m=\u001b[0m \u001b[0mint\u001b[0m\u001b[0;34m(\u001b[0m\u001b[0minput\u001b[0m\u001b[0;34m(\u001b[0m\u001b[0;34m\"Sayi gir: \"\u001b[0m\u001b[0;34m)\u001b[0m\u001b[0;34m)\u001b[0m\u001b[0;34m\u001b[0m\u001b[0;34m\u001b[0m\u001b[0m\n\u001b[0m\u001b[1;32m      2\u001b[0m \u001b[0msayi2\u001b[0m \u001b[0;34m=\u001b[0m \u001b[0mint\u001b[0m\u001b[0;34m(\u001b[0m\u001b[0minput\u001b[0m\u001b[0;34m(\u001b[0m\u001b[0;34m\"Sayi gir: \"\u001b[0m\u001b[0;34m)\u001b[0m\u001b[0;34m)\u001b[0m\u001b[0;34m\u001b[0m\u001b[0;34m\u001b[0m\u001b[0m\n\u001b[1;32m      3\u001b[0m \u001b[0msayi3\u001b[0m \u001b[0;34m=\u001b[0m \u001b[0mint\u001b[0m\u001b[0;34m(\u001b[0m\u001b[0minput\u001b[0m\u001b[0;34m(\u001b[0m\u001b[0;34m\"Sayi gir: \"\u001b[0m\u001b[0;34m)\u001b[0m\u001b[0;34m)\u001b[0m\u001b[0;34m\u001b[0m\u001b[0;34m\u001b[0m\u001b[0m\n\u001b[1;32m      4\u001b[0m \u001b[0;34m\u001b[0m\u001b[0m\n\u001b[1;32m      5\u001b[0m \u001b[0mminSayi\u001b[0m \u001b[0;34m=\u001b[0m \u001b[0msayi1\u001b[0m\u001b[0;34m\u001b[0m\u001b[0;34m\u001b[0m\u001b[0m\n",
            "\u001b[0;32m/usr/local/lib/python3.10/dist-packages/ipykernel/kernelbase.py\u001b[0m in \u001b[0;36mraw_input\u001b[0;34m(self, prompt)\u001b[0m\n\u001b[1;32m    849\u001b[0m                 \u001b[0;34m\"raw_input was called, but this frontend does not support input requests.\"\u001b[0m\u001b[0;34m\u001b[0m\u001b[0;34m\u001b[0m\u001b[0m\n\u001b[1;32m    850\u001b[0m             )\n\u001b[0;32m--> 851\u001b[0;31m         return self._input_request(str(prompt),\n\u001b[0m\u001b[1;32m    852\u001b[0m             \u001b[0mself\u001b[0m\u001b[0;34m.\u001b[0m\u001b[0m_parent_ident\u001b[0m\u001b[0;34m,\u001b[0m\u001b[0;34m\u001b[0m\u001b[0;34m\u001b[0m\u001b[0m\n\u001b[1;32m    853\u001b[0m             \u001b[0mself\u001b[0m\u001b[0;34m.\u001b[0m\u001b[0m_parent_header\u001b[0m\u001b[0;34m,\u001b[0m\u001b[0;34m\u001b[0m\u001b[0;34m\u001b[0m\u001b[0m\n",
            "\u001b[0;32m/usr/local/lib/python3.10/dist-packages/ipykernel/kernelbase.py\u001b[0m in \u001b[0;36m_input_request\u001b[0;34m(self, prompt, ident, parent, password)\u001b[0m\n\u001b[1;32m    893\u001b[0m             \u001b[0;32mexcept\u001b[0m \u001b[0mKeyboardInterrupt\u001b[0m\u001b[0;34m:\u001b[0m\u001b[0;34m\u001b[0m\u001b[0;34m\u001b[0m\u001b[0m\n\u001b[1;32m    894\u001b[0m                 \u001b[0;31m# re-raise KeyboardInterrupt, to truncate traceback\u001b[0m\u001b[0;34m\u001b[0m\u001b[0;34m\u001b[0m\u001b[0m\n\u001b[0;32m--> 895\u001b[0;31m                 \u001b[0;32mraise\u001b[0m \u001b[0mKeyboardInterrupt\u001b[0m\u001b[0;34m(\u001b[0m\u001b[0;34m\"Interrupted by user\"\u001b[0m\u001b[0;34m)\u001b[0m \u001b[0;32mfrom\u001b[0m \u001b[0;32mNone\u001b[0m\u001b[0;34m\u001b[0m\u001b[0;34m\u001b[0m\u001b[0m\n\u001b[0m\u001b[1;32m    896\u001b[0m             \u001b[0;32mexcept\u001b[0m \u001b[0mException\u001b[0m \u001b[0;32mas\u001b[0m \u001b[0me\u001b[0m\u001b[0;34m:\u001b[0m\u001b[0;34m\u001b[0m\u001b[0;34m\u001b[0m\u001b[0m\n\u001b[1;32m    897\u001b[0m                 \u001b[0mself\u001b[0m\u001b[0;34m.\u001b[0m\u001b[0mlog\u001b[0m\u001b[0;34m.\u001b[0m\u001b[0mwarning\u001b[0m\u001b[0;34m(\u001b[0m\u001b[0;34m\"Invalid Message:\"\u001b[0m\u001b[0;34m,\u001b[0m \u001b[0mexc_info\u001b[0m\u001b[0;34m=\u001b[0m\u001b[0;32mTrue\u001b[0m\u001b[0;34m)\u001b[0m\u001b[0;34m\u001b[0m\u001b[0;34m\u001b[0m\u001b[0m\n",
            "\u001b[0;31mKeyboardInterrupt\u001b[0m: Interrupted by user"
          ]
        }
      ]
    },
    {
      "cell_type": "markdown",
      "source": [
        "Parametre sayısından bağımsız en küçük sayıyı bulan metot:  ```min()```\n",
        "\n"
      ],
      "metadata": {
        "id": "qn6kgeyyA9YQ"
      }
    },
    {
      "cell_type": "code",
      "source": [
        "print(min(10,50,40))\n",
        "\n",
        "print(min(12,-324,-234234))"
      ],
      "metadata": {
        "colab": {
          "base_uri": "https://localhost:8080/"
        },
        "id": "AubHuN8_A3Ij",
        "outputId": "0c79b62b-e63e-4fcc-a130-94f8d96cef09"
      },
      "execution_count": null,
      "outputs": [
        {
          "output_type": "stream",
          "name": "stdout",
          "text": [
            "10\n",
            "-234234\n"
          ]
        }
      ]
    },
    {
      "cell_type": "markdown",
      "source": [
        "Parametre sayısından bağımsız en büyük sayıyı bulan metot:  ```max()```\n",
        "\n"
      ],
      "metadata": {
        "id": "_tYzdODuBcb-"
      }
    },
    {
      "cell_type": "code",
      "source": [
        "print(max(10,50,40))\n",
        "\n",
        "print(max(12,-324,-234234))"
      ],
      "metadata": {
        "colab": {
          "base_uri": "https://localhost:8080/"
        },
        "outputId": "e67949bd-40e2-4aae-8982-affc1031bb69",
        "id": "r24gP0sZBkzq"
      },
      "execution_count": null,
      "outputs": [
        {
          "output_type": "stream",
          "name": "stdout",
          "text": [
            "50\n",
            "12\n"
          ]
        }
      ]
    },
    {
      "cell_type": "markdown",
      "source": [
        "```sum()``` fonksiyonu ``` min()``` ve ```max()``` fonksiyonları gibi sayıları direkt alamaz (**TypeError** verir), liste şeklinde verebiliriz."
      ],
      "metadata": {
        "id": "JpcU8TvmB8I8"
      }
    },
    {
      "cell_type": "code",
      "source": [
        "sum([12,34,65])"
      ],
      "metadata": {
        "colab": {
          "base_uri": "https://localhost:8080/"
        },
        "id": "JAu0DDM3CQvl",
        "outputId": "e20d5d6c-75e3-416a-9d49-11cb40a1b82a"
      },
      "execution_count": null,
      "outputs": [
        {
          "output_type": "execute_result",
          "data": {
            "text/plain": [
              "111"
            ]
          },
          "metadata": {},
          "execution_count": 91
        }
      ]
    },
    {
      "cell_type": "code",
      "source": [
        "x = 100\n",
        "\n",
        "if x >= 500:\n",
        "  a = \"okay.\"\n",
        "else:\n",
        "  a = \"not okay.\""
      ],
      "metadata": {
        "id": "YfiaPS2JClpD"
      },
      "execution_count": null,
      "outputs": []
    },
    {
      "cell_type": "code",
      "source": [
        "a"
      ],
      "metadata": {
        "colab": {
          "base_uri": "https://localhost:8080/"
        },
        "id": "2gW8Cy0sDUmR",
        "outputId": "dba681f2-7b89-444e-e165-6f2f755bb93e"
      },
      "execution_count": null,
      "outputs": [
        {
          "output_type": "execute_result",
          "data": {
            "text/plain": [
              "5"
            ]
          },
          "metadata": {},
          "execution_count": 96
        }
      ]
    },
    {
      "cell_type": "code",
      "source": [
        "x = 100\n",
        "\n",
        "if x>= 100:\n",
        "  print(\"A\")\n",
        "elif x>= 90:\n",
        "  print(\"B\")\n",
        "elif x>= 80:\n",
        "  print(\"C\")\n",
        "elif x>= 70:\n",
        "  print(\"D\")\n",
        "else:\n",
        "  print(\"okay\")"
      ],
      "metadata": {
        "colab": {
          "base_uri": "https://localhost:8080/"
        },
        "id": "l5HvE2YoDfVW",
        "outputId": "848de68e-d54b-4c44-8598-4c340b684c1b"
      },
      "execution_count": null,
      "outputs": [
        {
          "output_type": "stream",
          "name": "stdout",
          "text": [
            "A\n"
          ]
        }
      ]
    },
    {
      "cell_type": "markdown",
      "source": [
        "**Odev**: Girilen 3 sayıyı küçükten büyüğe doğru sıralayınız."
      ],
      "metadata": {
        "id": "qngxFkrEGqwl"
      }
    },
    {
      "cell_type": "code",
      "source": [
        "sayi1 = int(input(\"sayi gir: \"))\n",
        "sayi2 = int(input(\"sayi gir: \"))\n",
        "sayi3 = int(input(\"sayi gir: \"))\n",
        "\n",
        "if sayi1 <= sayi2 <= sayi3:\n",
        "  print(sayi1,sayi2,sayi3)\n",
        "elif sayi1 <= sayi3 <= sayi2:\n",
        "  print(sayi1,sayi3,sayi2)\n",
        "elif sayi2 <= sayi3 <= sayi1:\n",
        "  print(sayi2,sayi3,sayi1)\n",
        "elif sayi2 <= sayi1 <= sayi3:\n",
        "  print(sayi2,sayi1,sayi3)\n",
        "elif sayi3 <= sayi1 <= sayi2:\n",
        "  print(sayi3,sayi1,sayi2)\n",
        "elif sayi3 <= sayi2 <= sayi1:\n",
        "  print(sayi3,sayi2,sayi1)"
      ],
      "metadata": {
        "colab": {
          "base_uri": "https://localhost:8080/"
        },
        "id": "teq8C_zwGxsr",
        "outputId": "2fdba12d-4db5-4a62-cd17-bbf6794b2af3"
      },
      "execution_count": null,
      "outputs": [
        {
          "output_type": "stream",
          "name": "stdout",
          "text": [
            "sayi gir: 5\n",
            "sayi gir: 5\n",
            "sayi gir: 5\n",
            "5 5 5\n"
          ]
        }
      ]
    },
    {
      "cell_type": "markdown",
      "source": [
        "Basit `while` döngüsü:"
      ],
      "metadata": {
        "id": "Fy0_I6r4JLEi"
      }
    },
    {
      "cell_type": "code",
      "source": [
        "x = 4\n",
        "while x <= 15:\n",
        "  print(x, end = \" \")\n",
        "  x = x+1"
      ],
      "metadata": {
        "colab": {
          "base_uri": "https://localhost:8080/"
        },
        "id": "qkDjZm92IUwG",
        "outputId": "440a0824-e63f-436c-87a7-43bbc2cca1a7"
      },
      "execution_count": null,
      "outputs": [
        {
          "output_type": "stream",
          "name": "stdout",
          "text": [
            "4 5 6 7 8 9 10 11 12 13 14 15 "
          ]
        }
      ]
    },
    {
      "cell_type": "markdown",
      "source": [
        "Basit `for` döngüsü:"
      ],
      "metadata": {
        "id": "YE7xfEikJfKo"
      }
    },
    {
      "cell_type": "code",
      "source": [
        "\n",
        "for x in range(4,15):\n",
        "  print(x, end = \" \")"
      ],
      "metadata": {
        "colab": {
          "base_uri": "https://localhost:8080/"
        },
        "id": "mNjtFYaJJXrt",
        "outputId": "cacd5491-d7f8-4877-fc0d-d60acc31e974"
      },
      "execution_count": null,
      "outputs": [
        {
          "output_type": "stream",
          "name": "stdout",
          "text": [
            "4 5 6 7 8 9 10 11 12 13 14 4\n",
            "5\n",
            "6\n",
            "7\n",
            "8\n",
            "9\n",
            "10\n",
            "11\n",
            "12\n",
            "13\n",
            "14\n"
          ]
        }
      ]
    },
    {
      "cell_type": "markdown",
      "source": [
        "Liste içindeki elemanları `for` döngüsü yardımıyla toplama:"
      ],
      "metadata": {
        "id": "kXb9yM1gLG-E"
      }
    },
    {
      "cell_type": "code",
      "source": [
        "  sayiListesi = [10,20,30,40]\n",
        "  top = 0\n",
        "  for i in sayiListesi:\n",
        "    top = top + i\n",
        "  print(top)"
      ],
      "metadata": {
        "colab": {
          "base_uri": "https://localhost:8080/"
        },
        "id": "NorWpM0TKBjQ",
        "outputId": "41309295-760f-4e5f-b080-2e18c3b88b93"
      },
      "execution_count": null,
      "outputs": [
        {
          "output_type": "stream",
          "name": "stdout",
          "text": [
            "100\n"
          ]
        }
      ]
    },
    {
      "cell_type": "markdown",
      "source": [
        "**Odev**: Kullanıcıdan kaç değer gireceği verisi alınarak bu değerler kadar sayıları alıp bunların toplamını ve ortalamasını ekrana yazan python kodunu yazınız. (`for` ve `while` kullanılsın.)"
      ],
      "metadata": {
        "id": "OUV3VYMwL-Z4"
      }
    },
    {
      "cell_type": "code",
      "source": [
        "count = int(input(\"Kac deger gireceksiniz? :\"))\n",
        "l = []\n",
        "toplam = 0\n",
        "for i in range(count):\n",
        "  l.append(int(input( \"giriniz: \")))\n",
        "  toplam = toplam + l[i] \n",
        "  \n",
        "print(f'Sayilarin toplami: {toplam}')\n",
        "print(f'Sayilarin ortalamasi: {toplam/count}')\n"
      ],
      "metadata": {
        "colab": {
          "base_uri": "https://localhost:8080/",
          "height": 380
        },
        "id": "PhOROqIQLUHv",
        "outputId": "fd0bf8e5-63b2-4998-d96a-27ed7a42f64b"
      },
      "execution_count": null,
      "outputs": [
        {
          "output_type": "error",
          "ename": "KeyboardInterrupt",
          "evalue": "ignored",
          "traceback": [
            "\u001b[0;31m---------------------------------------------------------------------------\u001b[0m",
            "\u001b[0;31mKeyboardInterrupt\u001b[0m                         Traceback (most recent call last)",
            "\u001b[0;32m<ipython-input-128-4ee2bf29d09c>\u001b[0m in \u001b[0;36m<cell line: 1>\u001b[0;34m()\u001b[0m\n\u001b[0;32m----> 1\u001b[0;31m \u001b[0mcount\u001b[0m \u001b[0;34m=\u001b[0m \u001b[0mint\u001b[0m\u001b[0;34m(\u001b[0m\u001b[0minput\u001b[0m\u001b[0;34m(\u001b[0m\u001b[0;34m\"Kac deger gireceksiniz? :\"\u001b[0m\u001b[0;34m)\u001b[0m\u001b[0;34m)\u001b[0m\u001b[0;34m\u001b[0m\u001b[0;34m\u001b[0m\u001b[0m\n\u001b[0m\u001b[1;32m      2\u001b[0m \u001b[0ml\u001b[0m \u001b[0;34m=\u001b[0m \u001b[0;34m[\u001b[0m\u001b[0;34m]\u001b[0m\u001b[0;34m\u001b[0m\u001b[0;34m\u001b[0m\u001b[0m\n\u001b[1;32m      3\u001b[0m \u001b[0mtoplam\u001b[0m \u001b[0;34m=\u001b[0m \u001b[0;36m0\u001b[0m\u001b[0;34m\u001b[0m\u001b[0;34m\u001b[0m\u001b[0m\n\u001b[1;32m      4\u001b[0m \u001b[0;32mfor\u001b[0m \u001b[0mi\u001b[0m \u001b[0;32min\u001b[0m \u001b[0mrange\u001b[0m\u001b[0;34m(\u001b[0m\u001b[0mcount\u001b[0m\u001b[0;34m)\u001b[0m\u001b[0;34m:\u001b[0m\u001b[0;34m\u001b[0m\u001b[0;34m\u001b[0m\u001b[0m\n\u001b[1;32m      5\u001b[0m   \u001b[0ml\u001b[0m\u001b[0;34m.\u001b[0m\u001b[0mappend\u001b[0m\u001b[0;34m(\u001b[0m\u001b[0mint\u001b[0m\u001b[0;34m(\u001b[0m\u001b[0minput\u001b[0m\u001b[0;34m(\u001b[0m \u001b[0;34m\"giriniz: \"\u001b[0m\u001b[0;34m)\u001b[0m\u001b[0;34m)\u001b[0m\u001b[0;34m)\u001b[0m\u001b[0;34m\u001b[0m\u001b[0;34m\u001b[0m\u001b[0m\n",
            "\u001b[0;32m/usr/local/lib/python3.10/dist-packages/ipykernel/kernelbase.py\u001b[0m in \u001b[0;36mraw_input\u001b[0;34m(self, prompt)\u001b[0m\n\u001b[1;32m    849\u001b[0m                 \u001b[0;34m\"raw_input was called, but this frontend does not support input requests.\"\u001b[0m\u001b[0;34m\u001b[0m\u001b[0;34m\u001b[0m\u001b[0m\n\u001b[1;32m    850\u001b[0m             )\n\u001b[0;32m--> 851\u001b[0;31m         return self._input_request(str(prompt),\n\u001b[0m\u001b[1;32m    852\u001b[0m             \u001b[0mself\u001b[0m\u001b[0;34m.\u001b[0m\u001b[0m_parent_ident\u001b[0m\u001b[0;34m,\u001b[0m\u001b[0;34m\u001b[0m\u001b[0;34m\u001b[0m\u001b[0m\n\u001b[1;32m    853\u001b[0m             \u001b[0mself\u001b[0m\u001b[0;34m.\u001b[0m\u001b[0m_parent_header\u001b[0m\u001b[0;34m,\u001b[0m\u001b[0;34m\u001b[0m\u001b[0;34m\u001b[0m\u001b[0m\n",
            "\u001b[0;32m/usr/local/lib/python3.10/dist-packages/ipykernel/kernelbase.py\u001b[0m in \u001b[0;36m_input_request\u001b[0;34m(self, prompt, ident, parent, password)\u001b[0m\n\u001b[1;32m    893\u001b[0m             \u001b[0;32mexcept\u001b[0m \u001b[0mKeyboardInterrupt\u001b[0m\u001b[0;34m:\u001b[0m\u001b[0;34m\u001b[0m\u001b[0;34m\u001b[0m\u001b[0m\n\u001b[1;32m    894\u001b[0m                 \u001b[0;31m# re-raise KeyboardInterrupt, to truncate traceback\u001b[0m\u001b[0;34m\u001b[0m\u001b[0;34m\u001b[0m\u001b[0m\n\u001b[0;32m--> 895\u001b[0;31m                 \u001b[0;32mraise\u001b[0m \u001b[0mKeyboardInterrupt\u001b[0m\u001b[0;34m(\u001b[0m\u001b[0;34m\"Interrupted by user\"\u001b[0m\u001b[0;34m)\u001b[0m \u001b[0;32mfrom\u001b[0m \u001b[0;32mNone\u001b[0m\u001b[0;34m\u001b[0m\u001b[0;34m\u001b[0m\u001b[0m\n\u001b[0m\u001b[1;32m    896\u001b[0m             \u001b[0;32mexcept\u001b[0m \u001b[0mException\u001b[0m \u001b[0;32mas\u001b[0m \u001b[0me\u001b[0m\u001b[0;34m:\u001b[0m\u001b[0;34m\u001b[0m\u001b[0;34m\u001b[0m\u001b[0m\n\u001b[1;32m    897\u001b[0m                 \u001b[0mself\u001b[0m\u001b[0;34m.\u001b[0m\u001b[0mlog\u001b[0m\u001b[0;34m.\u001b[0m\u001b[0mwarning\u001b[0m\u001b[0;34m(\u001b[0m\u001b[0;34m\"Invalid Message:\"\u001b[0m\u001b[0;34m,\u001b[0m \u001b[0mexc_info\u001b[0m\u001b[0;34m=\u001b[0m\u001b[0;32mTrue\u001b[0m\u001b[0;34m)\u001b[0m\u001b[0;34m\u001b[0m\u001b[0;34m\u001b[0m\u001b[0m\n",
            "\u001b[0;31mKeyboardInterrupt\u001b[0m: Interrupted by user"
          ]
        }
      ]
    },
    {
      "cell_type": "markdown",
      "source": [
        "Yukarıdaki ödevin listesiz versiyonu:"
      ],
      "metadata": {
        "id": "KUQH2Xy3Pbv2"
      }
    },
    {
      "cell_type": "code",
      "source": [
        "count = int(input(\"Kac deger gireceksiniz? :\"))\n",
        "toplam = 0\n",
        "for i in range(count):\n",
        "  deger = int(input( \"giriniz: \"))\n",
        "  toplam = toplam + deger\n",
        "  \n",
        "print(f'Sayilarin toplami: {toplam}')\n",
        "print(f'Sayilarin ortalamasi: {toplam/count}')\n"
      ],
      "metadata": {
        "colab": {
          "base_uri": "https://localhost:8080/"
        },
        "id": "FUMDbaZUPJE9",
        "outputId": "2c917603-d591-4736-c860-87268b05ea8c"
      },
      "execution_count": null,
      "outputs": [
        {
          "output_type": "stream",
          "name": "stdout",
          "text": [
            "Kac deger gireceksiniz? :4\n",
            "giriniz: 45\n",
            "giriniz: 54\n",
            "giriniz: 0\n",
            "giriniz: 1\n",
            "Sayilarin toplami: 100\n",
            "Sayilarin ortalamasi: 25.0\n"
          ]
        }
      ]
    },
    {
      "cell_type": "markdown",
      "source": [
        "float 2 sayıyı topladığımızda gördüğünüz gibi hassasiyet arttığında en son yer alan basamaklarda doğru olmayan sayılar yer alıyor:\n"
      ],
      "metadata": {
        "id": "PbLE2WF1RD9z"
      }
    },
    {
      "cell_type": "code",
      "source": [
        "0.1+0.2"
      ],
      "metadata": {
        "colab": {
          "base_uri": "https://localhost:8080/"
        },
        "id": "0iBFmwhIQ1b3",
        "outputId": "103b9867-ae3c-497d-965e-45c1e714576e"
      },
      "execution_count": null,
      "outputs": [
        {
          "output_type": "execute_result",
          "data": {
            "text/plain": [
              "0.30000000000000004"
            ]
          },
          "metadata": {},
          "execution_count": 132
        }
      ]
    },
    {
      "cell_type": "markdown",
      "source": [
        "Bir diğer örnek:"
      ],
      "metadata": {
        "id": "MGpKtqDMRc6U"
      }
    },
    {
      "cell_type": "code",
      "source": [
        "x = 525.1\n",
        "print(f\"{x:.16f}\")"
      ],
      "metadata": {
        "colab": {
          "base_uri": "https://localhost:8080/"
        },
        "id": "fB7_OqnXQ43g",
        "outputId": "9f6dd57a-57dc-4d80-d61d-37f02e0e034c"
      },
      "execution_count": null,
      "outputs": [
        {
          "output_type": "stream",
          "name": "stdout",
          "text": [
            "525.1000000000000227\n"
          ]
        }
      ]
    },
    {
      "cell_type": "markdown",
      "source": [
        "Bu durumun karşısını almak için decimal kütüphanesinden Decimal sınıfını çağırıp kullanabiliriz:"
      ],
      "metadata": {
        "id": "mwTU8GaBRgC_"
      }
    },
    {
      "cell_type": "code",
      "source": [
        "from decimal import Decimal\n",
        "x = Decimal('525.0')\n",
        "print(f\"{x}\")\n",
        "type(x)\n",
        "print(f\"{x:.20f}\")"
      ],
      "metadata": {
        "colab": {
          "base_uri": "https://localhost:8080/"
        },
        "id": "92972TuCRtko",
        "outputId": "5b3618c9-1bab-426f-f7d6-b73d5515845b"
      },
      "execution_count": null,
      "outputs": [
        {
          "output_type": "stream",
          "name": "stdout",
          "text": [
            "525.0\n",
            "525.00000000000000000000\n"
          ]
        }
      ]
    },
    {
      "cell_type": "markdown",
      "source": [
        "`statistics` kütüphanesi ile liste içerisindeki elemanların ortanca değerini, medianını vs. bulabiliriz:"
      ],
      "metadata": {
        "id": "dQSkhmbOUDAH"
      }
    },
    {
      "cell_type": "code",
      "source": [
        "import statistics\n",
        "l = [10,20,30,40,50,60,70,80,90,100]\n",
        "print(statistics.mean(l))\n",
        "print(statistics.median(l))\n",
        "print(statistics.mode(l))\n"
      ],
      "metadata": {
        "colab": {
          "base_uri": "https://localhost:8080/"
        },
        "id": "s-8S0KVgUSuU",
        "outputId": "fe4be2b3-b12f-4192-b4ee-2a3357cebeea"
      },
      "execution_count": null,
      "outputs": [
        {
          "output_type": "stream",
          "name": "stdout",
          "text": [
            "55\n",
            "55.0\n",
            "10\n"
          ]
        }
      ]
    },
    {
      "cell_type": "markdown",
      "source": [
        "Listenin `sorted`() metodu ile küçükten büyüğe sıralanması:"
      ],
      "metadata": {
        "id": "kU6wzWSxU7AK"
      }
    },
    {
      "cell_type": "code",
      "source": [
        "sorted(l)"
      ],
      "metadata": {
        "colab": {
          "base_uri": "https://localhost:8080/"
        },
        "id": "JTAaApfUVA_A",
        "outputId": "9422dc82-e5b9-417e-ec56-9b435c4802fd"
      },
      "execution_count": null,
      "outputs": [
        {
          "output_type": "execute_result",
          "data": {
            "text/plain": [
              "[10, 20, 30, 40, 50, 60, 70, 80, 90, 100]"
            ]
          },
          "metadata": {},
          "execution_count": 146
        }
      ]
    },
    {
      "cell_type": "markdown",
      "source": [
        "`numpy` kütüphanesi çağırılarak *percentile* bulunması:"
      ],
      "metadata": {
        "id": "rT2m89WWVdIw"
      }
    },
    {
      "cell_type": "code",
      "source": [
        "import numpy as np\n",
        "\n",
        "print(np.percentile(l,50))\n",
        "print(np.percentile(l,25))  # Elimdeki listenin %25 lik kismi 32.5 den kucuk esittir"
      ],
      "metadata": {
        "colab": {
          "base_uri": "https://localhost:8080/"
        },
        "id": "LCxL823_VkB9",
        "outputId": "6b45f20e-343d-4fff-ce09-38e3f9a77359"
      },
      "execution_count": null,
      "outputs": [
        {
          "output_type": "stream",
          "name": "stdout",
          "text": [
            "55.0\n",
            "32.5\n"
          ]
        }
      ]
    }
  ]
}
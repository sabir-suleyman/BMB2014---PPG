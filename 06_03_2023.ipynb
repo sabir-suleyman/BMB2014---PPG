{
  "nbformat": 4,
  "nbformat_minor": 0,
  "metadata": {
    "colab": {
      "provenance": [],
      "authorship_tag": "ABX9TyOPGg0KoA6aa5GfkyGDnGcj",
      "include_colab_link": true
    },
    "kernelspec": {
      "name": "python3",
      "display_name": "Python 3"
    },
    "language_info": {
      "name": "python"
    }
  },
  "cells": [
    {
      "cell_type": "markdown",
      "metadata": {
        "id": "view-in-github",
        "colab_type": "text"
      },
      "source": [
        "<a href=\"https://colab.research.google.com/github/sabir-suleyman/BMB2014---PPG/blob/main/06_03_2023.ipynb\" target=\"_parent\"><img src=\"https://colab.research.google.com/assets/colab-badge.svg\" alt=\"Open In Colab\"/></a>"
      ]
    },
    {
      "cell_type": "markdown",
      "source": [
        "**FONKSIYONLAR**\n"
      ],
      "metadata": {
        "id": "0ru11NlVWuej"
      }
    },
    {
      "cell_type": "code",
      "execution_count": null,
      "metadata": {
        "id": "W6dHuUreWsCz"
      },
      "outputs": [],
      "source": [
        "def deneme():\n",
        "  \"\"\" Fonksiyon aciklamasi \"\"\"\n",
        "  print(\"deneme\")"
      ]
    },
    {
      "cell_type": "code",
      "source": [
        "deneme()"
      ],
      "metadata": {
        "colab": {
          "base_uri": "https://localhost:8080/"
        },
        "id": "j8rzlBb1dtfA",
        "outputId": "df83a1e5-2481-4790-d3a4-1072c43259b5"
      },
      "execution_count": null,
      "outputs": [
        {
          "output_type": "stream",
          "name": "stdout",
          "text": [
            "deneme\n"
          ]
        }
      ]
    },
    {
      "cell_type": "code",
      "source": [
        "def topla(a,b):\n",
        "  z = a+b\n",
        "  return z"
      ],
      "metadata": {
        "id": "pqoTkdMgdzg4"
      },
      "execution_count": null,
      "outputs": []
    },
    {
      "cell_type": "code",
      "source": [
        "print(topla(13,15))\n",
        "print(topla(\"a\",\"b\"))"
      ],
      "metadata": {
        "colab": {
          "base_uri": "https://localhost:8080/"
        },
        "id": "g8aqkMN0d4Cz",
        "outputId": "b820faf5-2bf2-4fce-cc4f-97e76e507b97"
      },
      "execution_count": null,
      "outputs": [
        {
          "output_type": "stream",
          "name": "stdout",
          "text": [
            "28\n",
            "ab\n"
          ]
        }
      ]
    },
    {
      "cell_type": "code",
      "source": [
        "def us(a,b):\n",
        "  \"\"\" Us alma fonksiyonu \"\"\"\n",
        "  sonuc = 1\n",
        "  for i in range(1,b+1):\n",
        "    sonuc *= a\n",
        "  return sonuc"
      ],
      "metadata": {
        "id": "USez2oYKhUfz"
      },
      "execution_count": null,
      "outputs": []
    },
    {
      "cell_type": "code",
      "source": [
        "us(2,4)"
      ],
      "metadata": {
        "colab": {
          "base_uri": "https://localhost:8080/"
        },
        "id": "wP5gWTyfiJew",
        "outputId": "28d36e19-0612-4f6e-f385-66049aeac37b"
      },
      "execution_count": null,
      "outputs": [
        {
          "output_type": "execute_result",
          "data": {
            "text/plain": [
              "16"
            ]
          },
          "metadata": {},
          "execution_count": 25
        }
      ]
    },
    {
      "cell_type": "markdown",
      "source": [
        "Normalde fonksiyon çağırıldığı zaman ona gönderilen parametrler sırasıyla gönderilir. Aynı zamanda bu  parametleri sıraya önem vermeksizin de göndermek mümkündür:"
      ],
      "metadata": {
        "id": "uCvqUaR-jAID"
      }
    },
    {
      "cell_type": "code",
      "source": [
        "def mailat(kimden,kime,baslik,icerik):\n",
        "  print(f'Kimden: {kimden}')\n",
        "  print(f'Kime:   {kime}')\n",
        "  print(f'Baslik: {baslik}')\n",
        "  print(f'Icerik: {icerik}')"
      ],
      "metadata": {
        "id": "9XNbzzR5io3P"
      },
      "execution_count": null,
      "outputs": []
    },
    {
      "cell_type": "code",
      "source": [
        "mailat(\"suleymanlisabir3@gmail.com\",\"032190134@ogr.uludag.edu.tr\", \"Kuresel Isinma\", \"Dunya kayniyor hocam.\")\n",
        "print()\n",
        "mailat(icerik=\"Dunya kayniyor hocam.\",baslik=\"Kuresel Isinma\",kime=\"032190134@ogr.uludag.edu.tr\",kimden=\"suleymanlisabir3@gmail.com\")"
      ],
      "metadata": {
        "colab": {
          "base_uri": "https://localhost:8080/"
        },
        "id": "qDA3cMX8lNyl",
        "outputId": "fb0f1401-0e06-4d1e-ffa2-8791a1b4997d"
      },
      "execution_count": null,
      "outputs": [
        {
          "output_type": "stream",
          "name": "stdout",
          "text": [
            "Kimden: suleymanlisabir3@gmail.com\n",
            "Kime:   032190134@ogr.uludag.edu.tr\n",
            "Baslik: Kuresel Isinma\n",
            "Icerik: Dunya kayniyor hocam.\n",
            "\n",
            "Kimden: suleymanlisabir3@gmail.com\n",
            "Kime:   032190134@ogr.uludag.edu.tr\n",
            "Baslik: Kuresel Isinma\n",
            "Icerik: Dunya kayniyor hocam.\n"
          ]
        }
      ]
    },
    {
      "cell_type": "markdown",
      "source": [
        "Rastgele parametre sayısı ile çalışabilen fonksiyon yazımı.\n",
        "Bunun için yıldız (`*`) kullanılıyor. Çalışma mantığı ise şu şekilde: \n",
        "Yıldız olan parametre sadece iteratif değer kabul eder ve fonksiyon içinde bu değerlerin yer aldığı bir tuple oluşturur. Bu sayede sonsuz eleman alabilme şansına sahip oluyor."
      ],
      "metadata": {
        "id": "yCbDeAOunyT4"
      }
    },
    {
      "cell_type": "code",
      "source": [
        "def topla2(*w):\n",
        "  print(w)\n"
      ],
      "metadata": {
        "id": "bKG146zwmYDA"
      },
      "execution_count": null,
      "outputs": []
    },
    {
      "cell_type": "code",
      "source": [
        "topla2(1,2,3)"
      ],
      "metadata": {
        "colab": {
          "base_uri": "https://localhost:8080/"
        },
        "id": "98uFNCoHow9K",
        "outputId": "207f19d1-a9fd-4b9d-b307-bd91233a844d"
      },
      "execution_count": null,
      "outputs": [
        {
          "output_type": "stream",
          "name": "stdout",
          "text": [
            "(1, 2, 3)\n"
          ]
        }
      ]
    },
    {
      "cell_type": "markdown",
      "source": [
        "Değerleri ve bu değerlerle yapacağı işlemi input olarak alıp sonuç döndüren bir fonksiyon yazalım:"
      ],
      "metadata": {
        "id": "dWjq-MRSrBNT"
      }
    },
    {
      "cell_type": "code",
      "source": [
        "def islem(operator, *degerler):\n",
        "  if operator =='+':\n",
        "    sonuc = 0\n",
        "    for i in degerler:\n",
        "      sonuc += i\n",
        "  elif operator == '*':\n",
        "    sonuc = 1\n",
        "    for i in degerler:\n",
        "      sonuc *= i\n",
        "  return sonuc"
      ],
      "metadata": {
        "id": "yuSR0uKqo_gG"
      },
      "execution_count": null,
      "outputs": []
    },
    {
      "cell_type": "code",
      "source": [
        "islem('*  ',1,4,3)"
      ],
      "metadata": {
        "colab": {
          "base_uri": "https://localhost:8080/"
        },
        "id": "3R2Zuvm-se5K",
        "outputId": "9b9f7a81-adbe-4e27-ea73-91fbdd592345"
      },
      "execution_count": null,
      "outputs": [
        {
          "output_type": "execute_result",
          "data": {
            "text/plain": [
              "12"
            ]
          },
          "metadata": {},
          "execution_count": 64
        }
      ]
    },
    {
      "cell_type": "markdown",
      "source": [
        "İki yıldızlı parametler tek yıldızlılardan farklı olarak tuple değil `dictionary`(sözlük) veri yapısı döndürür:"
      ],
      "metadata": {
        "id": "Zto67utvv0HD"
      }
    },
    {
      "cell_type": "code",
      "source": [
        "def fonk(**keyWord):\n",
        "  print(keyWord)"
      ],
      "metadata": {
        "id": "lroOmGSgshcY"
      },
      "execution_count": null,
      "outputs": []
    },
    {
      "cell_type": "code",
      "source": [
        "fonk(a=5,b='5')"
      ],
      "metadata": {
        "colab": {
          "base_uri": "https://localhost:8080/"
        },
        "id": "PGbtO0ppwQqu",
        "outputId": "5934049d-3c43-43ba-bb9a-82c61c76140b"
      },
      "execution_count": null,
      "outputs": [
        {
          "output_type": "stream",
          "name": "stdout",
          "text": [
            "{'a': 5, 'b': '5'}\n"
          ]
        }
      ]
    },
    {
      "cell_type": "code",
      "source": [
        "def karisik(x,y=0,*z,**t):\n",
        "  print(x,y,z,t)"
      ],
      "metadata": {
        "id": "x0bhmt40w3CY"
      },
      "execution_count": null,
      "outputs": []
    },
    {
      "cell_type": "code",
      "source": [
        "karisik(2)\n",
        "karisik(2,3)\n",
        "karisik(2,3,4)\n",
        "karisik(2,3,4,5)\n",
        "karisik(2,3,4,5,a = 6)\n",
        "karisik(2,3,4,5,a = 6,b = 7)"
      ],
      "metadata": {
        "colab": {
          "base_uri": "https://localhost:8080/"
        },
        "id": "arwPgp9FxDVM",
        "outputId": "322714fb-6aa5-421e-c397-ab61f9ac5595"
      },
      "execution_count": null,
      "outputs": [
        {
          "output_type": "stream",
          "name": "stdout",
          "text": [
            "2 0 () {}\n",
            "2 3 () {}\n",
            "2 3 (4,) {}\n",
            "2 3 (4, 5) {}\n",
            "2 3 (4, 5) {'a': 6}\n",
            "2 3 (4, 5) {'a': 6, 'b': 7}\n"
          ]
        }
      ]
    },
    {
      "cell_type": "markdown",
      "source": [
        "Ödev: Recursive faktöryel fonksiyonu yazınız."
      ],
      "metadata": {
        "id": "zEH9pSEaGdCp"
      }
    },
    {
      "cell_type": "code",
      "source": [
        "def fak(n):\n",
        "  if n == 1:\n",
        "    return 1\n",
        "  else:\n",
        "    return n*fak(n-1)"
      ],
      "metadata": {
        "id": "BsPCvH_1xn60"
      },
      "execution_count": null,
      "outputs": []
    },
    {
      "cell_type": "code",
      "source": [
        "fak(5)"
      ],
      "metadata": {
        "colab": {
          "base_uri": "https://localhost:8080/"
        },
        "id": "cSyrhEi4HXED",
        "outputId": "0e4bcffe-ff05-4ce1-bf98-c009382ff680"
      },
      "execution_count": null,
      "outputs": [
        {
          "output_type": "execute_result",
          "data": {
            "text/plain": [
              "120"
            ]
          },
          "metadata": {},
          "execution_count": 89
        }
      ]
    }
  ]
}